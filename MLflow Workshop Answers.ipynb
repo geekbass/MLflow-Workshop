{
 "cells": [
  {
   "cell_type": "markdown",
   "id": "bc440228-6038-48db-ba8b-a600049f3f2f",
   "metadata": {},
   "source": [
    "# Managing Machine Learning Models with MLflow\n"
   ]
  },
  {
   "cell_type": "markdown",
   "id": "df4fcc5e-32f3-42d2-b20f-60e4d8b7f8e1",
   "metadata": {},
   "source": [
    "## Introduction\n",
    "- Weston Bassler ML Engineer at Emburse\n",
    "- DevOps / SRE \n",
    "- Distributed Systems Background (Hadoop, Apache Mesos, Kubernetes)\n",
    "- Love Tech and Automation\n"
   ]
  },
  {
   "cell_type": "markdown",
   "id": "60181d65-d28f-410f-9b4d-535701882efd",
   "metadata": {},
   "source": [
    "## What am I going to show you today?\n",
    "- What is MLflow?\n",
    "- Experiment Tracking\n",
    "- Model Evaluation\n",
    "- Model Registry\n",
    "- Model Deployment\n",
    "- Automate Training\n",
    "\n",
    "** Please use the Notebook to follow along **\n"
   ]
  },
  {
   "cell_type": "markdown",
   "id": "099bb34c-2444-41fa-81ed-0049263a8f26",
   "metadata": {},
   "source": [
    "# What is MLflow?\n",
    "- A powerful Python Library that assists many steps of the the Machine Learning (ML) lifecycle\n",
    "- It contains of Tracking, Models, Model Registry and Model Serving\n",
    "- Has integrations with many tools and platforms such as: PyTorch, Tensorflow, scikit-lear, HuggingFace, LangChain, OpenAI and many many more...\n",
    "- It is Open Source"
   ]
  },
  {
   "cell_type": "markdown",
   "id": "9d794c58-de1b-4d44-8cad-2fc560fd8c66",
   "metadata": {},
   "source": [
    "# Why should you care?\n",
    "\n",
    "*The Application Development Lifecycle is hard. Application Development that includes Machine Learning (ML Lifecycle) is even harder!*\n",
    "\n",
    "MLflow simplies the ML Lifecycle by providing solutions for the following:\n",
    "\n",
    "- Experimentation Management (**MLflow Tracking**): MLflow provides a systematic way to track experiments, including parameters, metrics, and code versions. This helps you organize and compare different experiments easily, leading to more efficient exploration of hyperparameters and model architectures.\n",
    "\n",
    "- Reproducibility and Collaboration (**MLflow Tracking & MLflow Projects & Model Registry**): MLflow captures the environment and dependencies for each experiment, ensuring reproducibility across different environments. This is crucial for collaboration within teams and sharing results with stakeholders, as it ensures that experiments can be replicated reliably.\n",
    "\n",
    "- Model Versioning and Management (**Model Registry**): MLflow allows you to version models, making it easier to track changes over time and revert to previous versions if needed. This enhances model governance and facilitates auditing and compliance requirements.\n",
    "\n",
    "- Deployment Simplification (**Model Registry**): MLflow streamlines the process of deploying models into production by providing tools for packaging models in a standard format and integrating with deployment platforms. This reduces the friction between model development and deployment, enabling faster time-to-market for machine learning solutions.\n",
    "\n",
    "- Integration with Existing Tools and Frameworks (**MLflow Models/Flavors**): MLflow seamlessly integrates with popular machine learning libraries and frameworks, including TensorFlow, PyTorch, scikit-learn, and XGBoost. This means you can continue using your preferred tools while benefiting from MLflow's capabilities."
   ]
  },
  {
   "cell_type": "markdown",
   "id": "087fd9b2-d1f4-4304-9f25-f382c8ab6441",
   "metadata": {},
   "source": [
    "# Using MLflow Python API\n",
    "\n",
    "#### MLflow Module\n",
    "- The `mlflow` module is an for managing MLflow Runs.\n",
    "- What is a Run? Collection of parameters, metrics, artifacts, etc.. related to training an ML Model\n",
    "- \"Active\"\n",
    "```py\n",
    "import mlflow\n",
    "\n",
    "# to start a run\n",
    "mlflow.start_run()\n",
    "\n",
    "# to end a run\n",
    "mlflow.end_run()\n",
    "\n",
    "```\n",
    "\n",
    "#### MLflow Client\n",
    "- Used to interface with Experiments, Runs, Model Versions and Registered Models.\n",
    "```py\n",
    "from mlflow import MlflowClient\n",
    "\n",
    "client = MlflowClient()\n",
    "\n",
    "```"
   ]
  },
  {
   "cell_type": "markdown",
   "id": "6897a8b0-9611-438f-9005-2397341358a6",
   "metadata": {},
   "source": [
    "## Getting Started"
   ]
  },
  {
   "cell_type": "code",
   "execution_count": 1,
   "id": "33335368-1dde-4400-9c3f-9b6be8fd9285",
   "metadata": {},
   "outputs": [
    {
     "name": "stdout",
     "output_type": "stream",
     "text": [
      "Requirement already satisfied: mlflow==2.8.1 in ./venv/lib/python3.10/site-packages (2.8.1)\n",
      "Requirement already satisfied: pandas==1.5.1 in ./venv/lib/python3.10/site-packages (1.5.1)\n",
      "Requirement already satisfied: xgboost==1.6.2 in ./venv/lib/python3.10/site-packages (1.6.2)\n",
      "Collecting argparse\n",
      "  Using cached argparse-1.4.0-py2.py3-none-any.whl (23 kB)\n",
      "Requirement already satisfied: click<9,>=7.0 in ./venv/lib/python3.10/site-packages (from mlflow==2.8.1) (8.1.7)\n",
      "Requirement already satisfied: entrypoints<1 in ./venv/lib/python3.10/site-packages (from mlflow==2.8.1) (0.4)\n",
      "Requirement already satisfied: sqlparse<1,>=0.4.0 in ./venv/lib/python3.10/site-packages (from mlflow==2.8.1) (0.4.4)\n",
      "Requirement already satisfied: gunicorn<22 in ./venv/lib/python3.10/site-packages (from mlflow==2.8.1) (20.1.0)\n",
      "Requirement already satisfied: scikit-learn<2 in ./venv/lib/python3.10/site-packages (from mlflow==2.8.1) (1.2.2)\n",
      "Requirement already satisfied: matplotlib<4 in ./venv/lib/python3.10/site-packages (from mlflow==2.8.1) (3.8.3)\n",
      "Requirement already satisfied: importlib-metadata!=4.7.0,<7,>=3.7.0 in ./venv/lib/python3.10/site-packages (from mlflow==2.8.1) (6.11.0)\n",
      "Requirement already satisfied: markdown<4,>=3.3 in ./venv/lib/python3.10/site-packages (from mlflow==2.8.1) (3.5.2)\n",
      "Requirement already satisfied: cloudpickle<3 in ./venv/lib/python3.10/site-packages (from mlflow==2.8.1) (2.2.1)\n",
      "Requirement already satisfied: Flask<4 in ./venv/lib/python3.10/site-packages (from mlflow==2.8.1) (2.3.3)\n",
      "Requirement already satisfied: docker<7,>=4.0.0 in ./venv/lib/python3.10/site-packages (from mlflow==2.8.1) (6.1.3)\n",
      "Requirement already satisfied: numpy<2 in ./venv/lib/python3.10/site-packages (from mlflow==2.8.1) (1.26.4)\n",
      "Requirement already satisfied: pyarrow<15,>=4.0.0 in ./venv/lib/python3.10/site-packages (from mlflow==2.8.1) (11.0.0)\n",
      "Requirement already satisfied: protobuf<5,>=3.12.0 in ./venv/lib/python3.10/site-packages (from mlflow==2.8.1) (4.25.3)\n",
      "Requirement already satisfied: pytz<2024 in ./venv/lib/python3.10/site-packages (from mlflow==2.8.1) (2023.4)\n",
      "Requirement already satisfied: requests<3,>=2.17.3 in ./venv/lib/python3.10/site-packages (from mlflow==2.8.1) (2.31.0)\n",
      "Requirement already satisfied: pyyaml<7,>=5.1 in ./venv/lib/python3.10/site-packages (from mlflow==2.8.1) (6.0.1)\n",
      "Requirement already satisfied: Jinja2<4,>=2.11 in ./venv/lib/python3.10/site-packages (from mlflow==2.8.1) (3.1.3)\n",
      "Requirement already satisfied: sqlalchemy<3,>=1.4.0 in ./venv/lib/python3.10/site-packages (from mlflow==2.8.1) (2.0.27)\n",
      "Requirement already satisfied: alembic!=1.10.0,<2 in ./venv/lib/python3.10/site-packages (from mlflow==2.8.1) (1.13.1)\n",
      "Requirement already satisfied: scipy<2 in ./venv/lib/python3.10/site-packages (from mlflow==2.8.1) (1.12.0)\n",
      "Requirement already satisfied: gitpython<4,>=2.1.0 in ./venv/lib/python3.10/site-packages (from mlflow==2.8.1) (3.1.42)\n",
      "Requirement already satisfied: packaging<24 in ./venv/lib/python3.10/site-packages (from mlflow==2.8.1) (23.2)\n",
      "Requirement already satisfied: databricks-cli<1,>=0.8.7 in ./venv/lib/python3.10/site-packages (from mlflow==2.8.1) (0.18.0)\n",
      "Requirement already satisfied: querystring-parser<2 in ./venv/lib/python3.10/site-packages (from mlflow==2.8.1) (1.2.4)\n",
      "Requirement already satisfied: python-dateutil>=2.8.1 in ./venv/lib/python3.10/site-packages (from pandas==1.5.1) (2.8.2)\n",
      "Requirement already satisfied: typing-extensions>=4 in ./venv/lib/python3.10/site-packages (from alembic!=1.10.0,<2->mlflow==2.8.1) (4.9.0)\n",
      "Requirement already satisfied: Mako in ./venv/lib/python3.10/site-packages (from alembic!=1.10.0,<2->mlflow==2.8.1) (1.3.2)\n",
      "Requirement already satisfied: six>=1.10.0 in ./venv/lib/python3.10/site-packages (from databricks-cli<1,>=0.8.7->mlflow==2.8.1) (1.16.0)\n",
      "Requirement already satisfied: pyjwt>=1.7.0 in ./venv/lib/python3.10/site-packages (from databricks-cli<1,>=0.8.7->mlflow==2.8.1) (2.8.0)\n",
      "Requirement already satisfied: oauthlib>=3.1.0 in ./venv/lib/python3.10/site-packages (from databricks-cli<1,>=0.8.7->mlflow==2.8.1) (3.2.2)\n",
      "Requirement already satisfied: tabulate>=0.7.7 in ./venv/lib/python3.10/site-packages (from databricks-cli<1,>=0.8.7->mlflow==2.8.1) (0.9.0)\n",
      "Requirement already satisfied: urllib3<3,>=1.26.7 in ./venv/lib/python3.10/site-packages (from databricks-cli<1,>=0.8.7->mlflow==2.8.1) (2.2.1)\n",
      "Requirement already satisfied: websocket-client>=0.32.0 in ./venv/lib/python3.10/site-packages (from docker<7,>=4.0.0->mlflow==2.8.1) (1.7.0)\n",
      "Requirement already satisfied: blinker>=1.6.2 in ./venv/lib/python3.10/site-packages (from Flask<4->mlflow==2.8.1) (1.7.0)\n",
      "Requirement already satisfied: Werkzeug>=2.3.7 in ./venv/lib/python3.10/site-packages (from Flask<4->mlflow==2.8.1) (3.0.1)\n",
      "Requirement already satisfied: itsdangerous>=2.1.2 in ./venv/lib/python3.10/site-packages (from Flask<4->mlflow==2.8.1) (2.1.2)\n",
      "Requirement already satisfied: gitdb<5,>=4.0.1 in ./venv/lib/python3.10/site-packages (from gitpython<4,>=2.1.0->mlflow==2.8.1) (4.0.11)\n",
      "Requirement already satisfied: setuptools>=3.0 in ./venv/lib/python3.10/site-packages (from gunicorn<22->mlflow==2.8.1) (65.4.1)\n",
      "Requirement already satisfied: zipp>=0.5 in ./venv/lib/python3.10/site-packages (from importlib-metadata!=4.7.0,<7,>=3.7.0->mlflow==2.8.1) (3.17.0)\n",
      "Requirement already satisfied: MarkupSafe>=2.0 in ./venv/lib/python3.10/site-packages (from Jinja2<4,>=2.11->mlflow==2.8.1) (2.1.5)\n",
      "Requirement already satisfied: kiwisolver>=1.3.1 in ./venv/lib/python3.10/site-packages (from matplotlib<4->mlflow==2.8.1) (1.4.5)\n",
      "Requirement already satisfied: pyparsing>=2.3.1 in ./venv/lib/python3.10/site-packages (from matplotlib<4->mlflow==2.8.1) (3.1.1)\n",
      "Requirement already satisfied: cycler>=0.10 in ./venv/lib/python3.10/site-packages (from matplotlib<4->mlflow==2.8.1) (0.12.1)\n",
      "Requirement already satisfied: contourpy>=1.0.1 in ./venv/lib/python3.10/site-packages (from matplotlib<4->mlflow==2.8.1) (1.2.0)\n",
      "Requirement already satisfied: pillow>=8 in ./venv/lib/python3.10/site-packages (from matplotlib<4->mlflow==2.8.1) (10.2.0)\n",
      "Requirement already satisfied: fonttools>=4.22.0 in ./venv/lib/python3.10/site-packages (from matplotlib<4->mlflow==2.8.1) (4.49.0)\n",
      "Requirement already satisfied: idna<4,>=2.5 in ./venv/lib/python3.10/site-packages (from requests<3,>=2.17.3->mlflow==2.8.1) (3.6)\n",
      "Requirement already satisfied: charset-normalizer<4,>=2 in ./venv/lib/python3.10/site-packages (from requests<3,>=2.17.3->mlflow==2.8.1) (3.3.2)\n",
      "Requirement already satisfied: certifi>=2017.4.17 in ./venv/lib/python3.10/site-packages (from requests<3,>=2.17.3->mlflow==2.8.1) (2024.2.2)\n",
      "Requirement already satisfied: threadpoolctl>=2.0.0 in ./venv/lib/python3.10/site-packages (from scikit-learn<2->mlflow==2.8.1) (3.3.0)\n",
      "Requirement already satisfied: joblib>=1.1.1 in ./venv/lib/python3.10/site-packages (from scikit-learn<2->mlflow==2.8.1) (1.3.2)\n",
      "Requirement already satisfied: greenlet!=0.4.17 in ./venv/lib/python3.10/site-packages (from sqlalchemy<3,>=1.4.0->mlflow==2.8.1) (3.0.3)\n",
      "Requirement already satisfied: smmap<6,>=3.0.1 in ./venv/lib/python3.10/site-packages (from gitdb<5,>=4.0.1->gitpython<4,>=2.1.0->mlflow==2.8.1) (5.0.1)\n",
      "Installing collected packages: argparse\n",
      "Successfully installed argparse-1.4.0\n",
      "\n",
      "\u001b[1m[\u001b[0m\u001b[34;49mnotice\u001b[0m\u001b[1;39;49m]\u001b[0m\u001b[39;49m A new release of pip available: \u001b[0m\u001b[31;49m22.2.2\u001b[0m\u001b[39;49m -> \u001b[0m\u001b[32;49m24.0\u001b[0m\n",
      "\u001b[1m[\u001b[0m\u001b[34;49mnotice\u001b[0m\u001b[1;39;49m]\u001b[0m\u001b[39;49m To update, run: \u001b[0m\u001b[32;49mpip install --upgrade pip\u001b[0m\n"
     ]
    }
   ],
   "source": [
    "!pip install mlflow==2.8.1 pandas==1.5.1 xgboost==1.6.2 argparse"
   ]
  },
  {
   "cell_type": "code",
   "execution_count": null,
   "id": "5e663c8a-1bcf-4d1d-be3a-aaa6d4bec58a",
   "metadata": {},
   "outputs": [],
   "source": [
    "# IF YOU ARE USING GOOGLE COLAB UNCOMMENT AND RUN\n",
    "# !git clone https://github.com/geekbass/MLflow-Workshop.git\n",
    "# !rm MLflow-Workshop/*ipynb\n",
    "# !mv MLflow-Workshop/* ."
   ]
  },
  {
   "cell_type": "code",
   "execution_count": null,
   "id": "5ef65e5d-b053-4a40-8c50-03fa6224bdc3",
   "metadata": {},
   "outputs": [],
   "source": [
    "# IF YOU ARE USING GOOGLE COLAB UNCOMMENT AND RUN\n",
    "# import shutil\n",
    "\n",
    "# shutil.rmtree('MLflow-Workshop')"
   ]
  },
  {
   "cell_type": "code",
   "execution_count": null,
   "id": "9fd9c4d9-0448-4ec4-9360-16d390b8e7c5",
   "metadata": {},
   "outputs": [],
   "source": [
    "\n",
    "\"\"\"\n",
    "RESTART YOUR KERNEL\n",
    "\"\"\"\n"
   ]
  },
  {
   "cell_type": "markdown",
   "id": "a619d821-8d98-4a09-98fa-084fa25390d8",
   "metadata": {},
   "source": [
    "# Project Background\n",
    "We are an investment firm that finanically backs startup tech companies. The company believes that they could benefit from an ML model that could estimate the potential profit based on historical data from previous investments.\n",
    "\n",
    "We have a dataset that we have collected that estimates the potenital profit of a startup based on the spend of R&D, Administration, and Maketing as well as which U.S. state the startup will reside. \n",
    "\n",
    "We have decided that the model should be a Regression Type model and we are going to use XGBoost Regressor."
   ]
  },
  {
   "cell_type": "markdown",
   "id": "332ff8a1-58ea-4053-87d8-e7d5ae374a33",
   "metadata": {},
   "source": [
    "# Create your Project in MLflow"
   ]
  },
  {
   "cell_type": "code",
   "execution_count": 1,
   "id": "ad3d9e29-0948-421c-851d-0a45b005c27b",
   "metadata": {},
   "outputs": [
    {
     "name": "stderr",
     "output_type": "stream",
     "text": [
      "2024/03/04 20:03:44 INFO mlflow.store.db.utils: Creating initial MLflow database tables...\n",
      "2024/03/04 20:03:44 INFO mlflow.store.db.utils: Updating database tables\n",
      "INFO  [alembic.runtime.migration] Context impl SQLiteImpl.\n",
      "INFO  [alembic.runtime.migration] Will assume non-transactional DDL.\n",
      "INFO  [alembic.runtime.migration] Running upgrade  -> 451aebb31d03, add metric step\n",
      "INFO  [alembic.runtime.migration] Running upgrade 451aebb31d03 -> 90e64c465722, migrate user column to tags\n",
      "INFO  [alembic.runtime.migration] Running upgrade 90e64c465722 -> 181f10493468, allow nulls for metric values\n",
      "INFO  [alembic.runtime.migration] Running upgrade 181f10493468 -> df50e92ffc5e, Add Experiment Tags Table\n",
      "INFO  [alembic.runtime.migration] Running upgrade df50e92ffc5e -> 7ac759974ad8, Update run tags with larger limit\n",
      "INFO  [alembic.runtime.migration] Running upgrade 7ac759974ad8 -> 89d4b8295536, create latest metrics table\n",
      "INFO  [89d4b8295536_create_latest_metrics_table_py] Migration complete!\n",
      "INFO  [alembic.runtime.migration] Running upgrade 89d4b8295536 -> 2b4d017a5e9b, add model registry tables to db\n",
      "INFO  [2b4d017a5e9b_add_model_registry_tables_to_db_py] Adding registered_models and model_versions tables to database.\n",
      "INFO  [2b4d017a5e9b_add_model_registry_tables_to_db_py] Migration complete!\n",
      "INFO  [alembic.runtime.migration] Running upgrade 2b4d017a5e9b -> cfd24bdc0731, Update run status constraint with killed\n",
      "INFO  [alembic.runtime.migration] Running upgrade cfd24bdc0731 -> 0a8213491aaa, drop_duplicate_killed_constraint\n",
      "INFO  [alembic.runtime.migration] Running upgrade 0a8213491aaa -> 728d730b5ebd, add registered model tags table\n",
      "INFO  [alembic.runtime.migration] Running upgrade 728d730b5ebd -> 27a6a02d2cf1, add model version tags table\n",
      "INFO  [alembic.runtime.migration] Running upgrade 27a6a02d2cf1 -> 84291f40a231, add run_link to model_version\n",
      "INFO  [alembic.runtime.migration] Running upgrade 84291f40a231 -> a8c4a736bde6, allow nulls for run_id\n",
      "INFO  [alembic.runtime.migration] Running upgrade a8c4a736bde6 -> 39d1c3be5f05, add_is_nan_constraint_for_metrics_tables_if_necessary\n",
      "INFO  [alembic.runtime.migration] Running upgrade 39d1c3be5f05 -> c48cb773bb87, reset_default_value_for_is_nan_in_metrics_table_for_mysql\n",
      "INFO  [alembic.runtime.migration] Running upgrade c48cb773bb87 -> bd07f7e963c5, create index on run_uuid\n",
      "INFO  [alembic.runtime.migration] Running upgrade bd07f7e963c5 -> 0c779009ac13, add deleted_time field to runs table\n",
      "INFO  [alembic.runtime.migration] Running upgrade 0c779009ac13 -> cc1f77228345, change param value length to 500\n",
      "INFO  [alembic.runtime.migration] Running upgrade cc1f77228345 -> 97727af70f4d, Add creation_time and last_update_time to experiments table\n",
      "INFO  [alembic.runtime.migration] Running upgrade 97727af70f4d -> 3500859a5d39, Add Model Aliases table\n",
      "INFO  [alembic.runtime.migration] Running upgrade 3500859a5d39 -> 7f2a7d5fae7d, add datasets inputs input_tags tables\n",
      "INFO  [alembic.runtime.migration] Running upgrade 7f2a7d5fae7d -> 2d6e25af4d3e, increase max param val length from 500 to 8000\n",
      "INFO  [alembic.runtime.migration] Running upgrade 2d6e25af4d3e -> acf3f17fdcc7, add storage location field to model versions\n",
      "INFO  [alembic.runtime.migration] Context impl SQLiteImpl.\n",
      "INFO  [alembic.runtime.migration] Will assume non-transactional DDL.\n"
     ]
    }
   ],
   "source": [
    "# Create Your Initial Project in MLflow\n",
    "import mlflow \n",
    "\n",
    "# Set the a tracking URI to a local sqlite file\n",
    "mlflow.set_tracking_uri(\"sqlite:///mydb.sqlite\")\n",
    "\n",
    "# In MLflow create a new Experiment \n",
    "experiment_id = mlflow.create_experiment(\"PotentialStartups\")"
   ]
  },
  {
   "cell_type": "code",
   "execution_count": 2,
   "id": "f4d3771c-d182-4f6a-86ec-ce075ec54a43",
   "metadata": {},
   "outputs": [
    {
     "name": "stdout",
     "output_type": "stream",
     "text": [
      "Name: PotentialStartups\n",
      "Creation timestamp: 1709600624550\n"
     ]
    }
   ],
   "source": [
    "# Print the Experiment Name and Creation Date\n",
    "experiment = mlflow.get_experiment(experiment_id)\n",
    "print(\"Name: {}\".format(experiment.name))\n",
    "print(\"Creation timestamp: {}\".format(experiment.creation_time))"
   ]
  },
  {
   "cell_type": "code",
   "execution_count": 3,
   "id": "ba90d74a-deb6-4920-937c-eaa7cc41d840",
   "metadata": {},
   "outputs": [
    {
     "name": "stdout",
     "output_type": "stream",
     "text": [
      "[2024-03-04 20:04:23 -0500] [9822] [INFO] Starting gunicorn 20.1.0\n",
      "[2024-03-04 20:04:23 -0500] [9822] [INFO] Listening at: http://127.0.0.1:5000 (9822)\n",
      "[2024-03-04 20:04:23 -0500] [9822] [INFO] Using worker: sync\n",
      "[2024-03-04 20:04:23 -0500] [9823] [INFO] Booting worker with pid: 9823\n",
      "[2024-03-04 20:04:24 -0500] [9824] [INFO] Booting worker with pid: 9824\n",
      "[2024-03-04 20:04:24 -0500] [9825] [INFO] Booting worker with pid: 9825\n",
      "[2024-03-04 20:04:24 -0500] [9826] [INFO] Booting worker with pid: 9826\n",
      "^C\n",
      "[2024-03-04 20:04:46 -0500] [9822] [INFO] Handling signal: int\n",
      "[2024-03-04 20:04:46 -0500] [9824] [INFO] Worker exiting (pid: 9824)\n",
      "[2024-03-04 20:04:46 -0500] [9826] [INFO] Worker exiting (pid: 9826)\n",
      "[2024-03-04 20:04:46 -0500] [9825] [INFO] Worker exiting (pid: 9825)\n",
      "[2024-03-04 20:04:46 -0500] [9823] [INFO] Worker exiting (pid: 9823)\n"
     ]
    }
   ],
   "source": [
    "# Run an MLFlow UI for a Visual \n",
    "!mlflow server --backend-store-uri=\"sqlite:///mydb.sqlite\""
   ]
  },
  {
   "cell_type": "markdown",
   "id": "eb983f8f-6331-4f49-b7b9-8d2fd30d3a2e",
   "metadata": {},
   "source": [
    "# Track your First Model | MLflow Tracking \n",
    "Here we are going to create a project so that we can store and log information about our training runs to MLflow. MLflow Tracking provides a central location for visualizations and storing information about models such as training parameters, metrics, and even store files such as models, code, etc..."
   ]
  },
  {
   "cell_type": "code",
   "execution_count": 4,
   "id": "6294b0a7-5834-4009-917f-44ea821443df",
   "metadata": {},
   "outputs": [],
   "source": [
    "# Begin with loading the Dataset into Training Data\n",
    "import pandas as pd\n",
    "import numpy as np\n",
    "from sklearn.model_selection import train_test_split\n",
    "\n",
    "# Load the Dataset\n",
    "df = pd.read_csv('startups_profit.csv', index_col=False)\n",
    "df['State']=df['State'].map({'New York':0,'Florida':1, 'California': 2}).astype(int)\n",
    "\n",
    "# Training Data\n",
    "X = df[[\"R&D Spend\", \"Administration\", \"Marketing Spend\",\"State\"]]\n",
    "y = df[[\"Profit\"]]\n",
    "X, y = df.iloc[:, :-1], df.iloc[:, -1] \n",
    "\n",
    "# Setting up train test split\n",
    "X_train, X_test, y_train, y_test = train_test_split(X, np.ravel(y), train_size=0.7,random_state=0)"
   ]
  },
  {
   "cell_type": "code",
   "execution_count": 5,
   "id": "bfdc5284-2775-4fec-ad9e-2c72e2cd7581",
   "metadata": {},
   "outputs": [
    {
     "data": {
      "text/plain": [
       "(35, 15, 35, 15)"
      ]
     },
     "execution_count": 5,
     "metadata": {},
     "output_type": "execute_result"
    }
   ],
   "source": [
    "len(X_train), len(X_test), len(y_train), len(y_test)"
   ]
  },
  {
   "cell_type": "code",
   "execution_count": 6,
   "id": "c1d21ed4-5bae-4363-9b12-f84733df7ab6",
   "metadata": {},
   "outputs": [
    {
     "data": {
      "text/plain": [
       "<Experiment: artifact_location='/Users/weston/Documents/git-repos/mlflow-workshop/mlruns/1', creation_time=1709600624550, experiment_id='1', last_update_time=1709600624550, lifecycle_stage='active', name='PotentialStartups', tags={}>"
      ]
     },
     "execution_count": 6,
     "metadata": {},
     "output_type": "execute_result"
    }
   ],
   "source": [
    "# Log model to our Project\n",
    "import mlflow\n",
    "\n",
    "# Set the connection to the tracking URI\n",
    "mlflow.set_tracking_uri(\"sqlite:///mydb.sqlite\")\n",
    "# Set the experiment\n",
    "mlflow.set_experiment(\"PotentialStartups\")"
   ]
  },
  {
   "cell_type": "markdown",
   "id": "a8804a5d-a6bf-4dcb-9a62-f88d9dad5a4a",
   "metadata": {},
   "source": [
    "### Lets Talk about Auto Logging in MLflow\n",
    "What is `autolog`? \n",
    "\n",
    "MLflow has integrations with some ML libraries that will automatically log metrics, parameters, and models by simply calling `autolog()` method.\n",
    "\n",
    "The following libraries support autologging:\n",
    "- Fastai\n",
    "- Gluon\n",
    "- Keras\n",
    "- LightGBM\n",
    "- PyTorch\n",
    "- Scikit-learn\n",
    "- Spark\n",
    "- Statsmodels\n",
    "- XGBoost\n",
    "\n"
   ]
  },
  {
   "cell_type": "code",
   "execution_count": 7,
   "id": "53a4170f-df24-4f6a-819e-bab03b52219b",
   "metadata": {},
   "outputs": [
    {
     "data": {
      "text/plain": [
       "<ActiveRun: >"
      ]
     },
     "execution_count": 7,
     "metadata": {},
     "output_type": "execute_result"
    }
   ],
   "source": [
    "# Start an MLflow Run\n",
    "mlflow.start_run()"
   ]
  },
  {
   "cell_type": "code",
   "execution_count": 8,
   "id": "a5e1d25d-cd16-4cfb-8611-903ecf834d10",
   "metadata": {},
   "outputs": [],
   "source": [
    "# Set Autolog for XGBoost\n",
    "import mlflow.xgboost\n",
    "\n",
    "mlflow.xgboost.autolog()"
   ]
  },
  {
   "cell_type": "code",
   "execution_count": 9,
   "id": "c193d450-7c99-4f83-a459-9a426c478516",
   "metadata": {},
   "outputs": [
    {
     "name": "stderr",
     "output_type": "stream",
     "text": [
      "2024/03/04 20:07:37 WARNING mlflow.xgboost: Unable to log dataset information to MLflow Tracking.XGBoost version must be >= 1.7.0\n",
      "2024/03/04 20:07:39 WARNING mlflow.utils.autologging_utils: MLflow autologging encountered a warning: \"/Users/weston/Documents/git-repos/mlflow-workshop/venv/lib/python3.10/site-packages/mlflow/models/signature.py:212: UserWarning: Hint: Inferred schema contains integer column(s). Integer columns in Python cannot represent missing values. If your input data contains missing values at inference time, it will be encoded as floats and will cause a schema enforcement error. The best way to avoid this problem is to infer the model schema based on a realistic data sample (training dataset) that includes missing values. Alternatively, you can declare integer columns as doubles (float64) whenever these columns may have missing values. See `Handling Integers With Missing Values <https://www.mlflow.org/docs/latest/models.html#handling-integers-with-missing-values>`_ for more details.\"\n"
     ]
    },
    {
     "data": {
      "text/html": [
       "<style>#sk-container-id-1 {color: black;background-color: white;}#sk-container-id-1 pre{padding: 0;}#sk-container-id-1 div.sk-toggleable {background-color: white;}#sk-container-id-1 label.sk-toggleable__label {cursor: pointer;display: block;width: 100%;margin-bottom: 0;padding: 0.3em;box-sizing: border-box;text-align: center;}#sk-container-id-1 label.sk-toggleable__label-arrow:before {content: \"▸\";float: left;margin-right: 0.25em;color: #696969;}#sk-container-id-1 label.sk-toggleable__label-arrow:hover:before {color: black;}#sk-container-id-1 div.sk-estimator:hover label.sk-toggleable__label-arrow:before {color: black;}#sk-container-id-1 div.sk-toggleable__content {max-height: 0;max-width: 0;overflow: hidden;text-align: left;background-color: #f0f8ff;}#sk-container-id-1 div.sk-toggleable__content pre {margin: 0.2em;color: black;border-radius: 0.25em;background-color: #f0f8ff;}#sk-container-id-1 input.sk-toggleable__control:checked~div.sk-toggleable__content {max-height: 200px;max-width: 100%;overflow: auto;}#sk-container-id-1 input.sk-toggleable__control:checked~label.sk-toggleable__label-arrow:before {content: \"▾\";}#sk-container-id-1 div.sk-estimator input.sk-toggleable__control:checked~label.sk-toggleable__label {background-color: #d4ebff;}#sk-container-id-1 div.sk-label input.sk-toggleable__control:checked~label.sk-toggleable__label {background-color: #d4ebff;}#sk-container-id-1 input.sk-hidden--visually {border: 0;clip: rect(1px 1px 1px 1px);clip: rect(1px, 1px, 1px, 1px);height: 1px;margin: -1px;overflow: hidden;padding: 0;position: absolute;width: 1px;}#sk-container-id-1 div.sk-estimator {font-family: monospace;background-color: #f0f8ff;border: 1px dotted black;border-radius: 0.25em;box-sizing: border-box;margin-bottom: 0.5em;}#sk-container-id-1 div.sk-estimator:hover {background-color: #d4ebff;}#sk-container-id-1 div.sk-parallel-item::after {content: \"\";width: 100%;border-bottom: 1px solid gray;flex-grow: 1;}#sk-container-id-1 div.sk-label:hover label.sk-toggleable__label {background-color: #d4ebff;}#sk-container-id-1 div.sk-serial::before {content: \"\";position: absolute;border-left: 1px solid gray;box-sizing: border-box;top: 0;bottom: 0;left: 50%;z-index: 0;}#sk-container-id-1 div.sk-serial {display: flex;flex-direction: column;align-items: center;background-color: white;padding-right: 0.2em;padding-left: 0.2em;position: relative;}#sk-container-id-1 div.sk-item {position: relative;z-index: 1;}#sk-container-id-1 div.sk-parallel {display: flex;align-items: stretch;justify-content: center;background-color: white;position: relative;}#sk-container-id-1 div.sk-item::before, #sk-container-id-1 div.sk-parallel-item::before {content: \"\";position: absolute;border-left: 1px solid gray;box-sizing: border-box;top: 0;bottom: 0;left: 50%;z-index: -1;}#sk-container-id-1 div.sk-parallel-item {display: flex;flex-direction: column;z-index: 1;position: relative;background-color: white;}#sk-container-id-1 div.sk-parallel-item:first-child::after {align-self: flex-end;width: 50%;}#sk-container-id-1 div.sk-parallel-item:last-child::after {align-self: flex-start;width: 50%;}#sk-container-id-1 div.sk-parallel-item:only-child::after {width: 0;}#sk-container-id-1 div.sk-dashed-wrapped {border: 1px dashed gray;margin: 0 0.4em 0.5em 0.4em;box-sizing: border-box;padding-bottom: 0.4em;background-color: white;}#sk-container-id-1 div.sk-label label {font-family: monospace;font-weight: bold;display: inline-block;line-height: 1.2em;}#sk-container-id-1 div.sk-label-container {text-align: center;}#sk-container-id-1 div.sk-container {/* jupyter's `normalize.less` sets `[hidden] { display: none; }` but bootstrap.min.css set `[hidden] { display: none !important; }` so we also need the `!important` here to be able to override the default hidden behavior on the sphinx rendered scikit-learn.org. See: https://github.com/scikit-learn/scikit-learn/issues/21755 */display: inline-block !important;position: relative;}#sk-container-id-1 div.sk-text-repr-fallback {display: none;}</style><div id=\"sk-container-id-1\" class=\"sk-top-container\"><div class=\"sk-text-repr-fallback\"><pre>XGBRegressor(base_score=0.5, booster=&#x27;gbtree&#x27;, callbacks=None,\n",
       "             colsample_bylevel=1, colsample_bynode=1, colsample_bytree=1,\n",
       "             early_stopping_rounds=None, enable_categorical=False,\n",
       "             eval_metric=None, gamma=0, gpu_id=-1, grow_policy=&#x27;depthwise&#x27;,\n",
       "             importance_type=None, interaction_constraints=&#x27;&#x27;,\n",
       "             learning_rate=0.300000012, max_bin=256, max_cat_to_onehot=4,\n",
       "             max_delta_step=0, max_depth=6, max_leaves=0, min_child_weight=1,\n",
       "             missing=nan, monotone_constraints=&#x27;()&#x27;, n_estimators=100, n_jobs=0,\n",
       "             num_parallel_tree=1, predictor=&#x27;auto&#x27;, random_state=0, reg_alpha=0,\n",
       "             reg_lambda=1, ...)</pre><b>In a Jupyter environment, please rerun this cell to show the HTML representation or trust the notebook. <br />On GitHub, the HTML representation is unable to render, please try loading this page with nbviewer.org.</b></div><div class=\"sk-container\" hidden><div class=\"sk-item\"><div class=\"sk-estimator sk-toggleable\"><input class=\"sk-toggleable__control sk-hidden--visually\" id=\"sk-estimator-id-1\" type=\"checkbox\" checked><label for=\"sk-estimator-id-1\" class=\"sk-toggleable__label sk-toggleable__label-arrow\">XGBRegressor</label><div class=\"sk-toggleable__content\"><pre>XGBRegressor(base_score=0.5, booster=&#x27;gbtree&#x27;, callbacks=None,\n",
       "             colsample_bylevel=1, colsample_bynode=1, colsample_bytree=1,\n",
       "             early_stopping_rounds=None, enable_categorical=False,\n",
       "             eval_metric=None, gamma=0, gpu_id=-1, grow_policy=&#x27;depthwise&#x27;,\n",
       "             importance_type=None, interaction_constraints=&#x27;&#x27;,\n",
       "             learning_rate=0.300000012, max_bin=256, max_cat_to_onehot=4,\n",
       "             max_delta_step=0, max_depth=6, max_leaves=0, min_child_weight=1,\n",
       "             missing=nan, monotone_constraints=&#x27;()&#x27;, n_estimators=100, n_jobs=0,\n",
       "             num_parallel_tree=1, predictor=&#x27;auto&#x27;, random_state=0, reg_alpha=0,\n",
       "             reg_lambda=1, ...)</pre></div></div></div></div></div>"
      ],
      "text/plain": [
       "XGBRegressor(base_score=0.5, booster='gbtree', callbacks=None,\n",
       "             colsample_bylevel=1, colsample_bynode=1, colsample_bytree=1,\n",
       "             early_stopping_rounds=None, enable_categorical=False,\n",
       "             eval_metric=None, gamma=0, gpu_id=-1, grow_policy='depthwise',\n",
       "             importance_type=None, interaction_constraints='',\n",
       "             learning_rate=0.300000012, max_bin=256, max_cat_to_onehot=4,\n",
       "             max_delta_step=0, max_depth=6, max_leaves=0, min_child_weight=1,\n",
       "             missing=nan, monotone_constraints='()', n_estimators=100, n_jobs=0,\n",
       "             num_parallel_tree=1, predictor='auto', random_state=0, reg_alpha=0,\n",
       "             reg_lambda=1, ...)"
      ]
     },
     "execution_count": 9,
     "metadata": {},
     "output_type": "execute_result"
    }
   ],
   "source": [
    "# Train our First Model\n",
    "import xgboost \n",
    "\n",
    "xgbr = xgboost.XGBRegressor() \n",
    "xgbr.fit(X_train, y_train)"
   ]
  },
  {
   "cell_type": "code",
   "execution_count": 10,
   "id": "b652c13f-ec68-4556-9471-76f91f5871c3",
   "metadata": {},
   "outputs": [
    {
     "name": "stderr",
     "output_type": "stream",
     "text": [
      "/Users/weston/Documents/git-repos/mlflow-workshop/venv/lib/python3.10/site-packages/mlflow/data/pandas_dataset.py:134: UserWarning: Hint: Inferred schema contains integer column(s). Integer columns in Python cannot represent missing values. If your input data contains missing values at inference time, it will be encoded as floats and will cause a schema enforcement error. The best way to avoid this problem is to infer the model schema based on a realistic data sample (training dataset) that includes missing values. Alternatively, you can declare integer columns as doubles (float64) whenever these columns may have missing values. See `Handling Integers With Missing Values <https://www.mlflow.org/docs/latest/models.html#handling-integers-with-missing-values>`_ for more details.\n",
      "  return _infer_schema(self._df)\n",
      "2024/03/04 20:08:07 INFO mlflow.models.evaluation.base: Evaluating the model with the default evaluator.\n",
      "2024/03/04 20:08:07 INFO mlflow.models.evaluation.default_evaluator: Computing model predictions.\n",
      "2024/03/04 20:08:07 INFO mlflow.models.evaluation.default_evaluator: Testing metrics on first row...\n",
      "2024/03/04 20:08:07 WARNING mlflow.models.evaluation.default_evaluator: SHAP or matplotlib package is not installed, so model explainability insights will not be logged.\n"
     ]
    }
   ],
   "source": [
    "# Evaluate our Model using MLflow. This is Log the metrics for us to MLflow.\n",
    "eval_data = X_test\n",
    "eval_data[\"Profits\"] = y_test\n",
    "\n",
    "# This will load our Model\n",
    "model_uri = mlflow.get_artifact_uri(\"model\")\n",
    "\n",
    "# This will run the evaluate Method against our model and our evaluation Data for the Regressor Type.\n",
    "# Here we are also only selecting the \"default\" evaluators\n",
    "result = mlflow.evaluate(\n",
    "    model_uri,\n",
    "    eval_data,\n",
    "    targets=\"Profits\",\n",
    "    model_type=\"regressor\",\n",
    "    evaluators=\"default\"\n",
    ")"
   ]
  },
  {
   "cell_type": "code",
   "execution_count": 11,
   "id": "7b36b3aa-326f-46d8-aaf3-86c62ba6b784",
   "metadata": {},
   "outputs": [],
   "source": [
    "# End our Run\n",
    "mlflow.end_run()"
   ]
  },
  {
   "cell_type": "code",
   "execution_count": 14,
   "id": "90d9fb0d-4ce9-449d-b1f2-62ea7d6be951",
   "metadata": {},
   "outputs": [
    {
     "name": "stderr",
     "output_type": "stream",
     "text": [
      "2024/03/04 20:10:40 WARNING mlflow.xgboost: Unable to log dataset information to MLflow Tracking.XGBoost version must be >= 1.7.0\n",
      "2024/03/04 20:10:40 WARNING mlflow.utils.autologging_utils: MLflow autologging encountered a warning: \"/Users/weston/Documents/git-repos/mlflow-workshop/venv/lib/python3.10/site-packages/mlflow/models/signature.py:212: UserWarning: Hint: Inferred schema contains integer column(s). Integer columns in Python cannot represent missing values. If your input data contains missing values at inference time, it will be encoded as floats and will cause a schema enforcement error. The best way to avoid this problem is to infer the model schema based on a realistic data sample (training dataset) that includes missing values. Alternatively, you can declare integer columns as doubles (float64) whenever these columns may have missing values. See `Handling Integers With Missing Values <https://www.mlflow.org/docs/latest/models.html#handling-integers-with-missing-values>`_ for more details.\"\n",
      "2024/03/04 20:10:42 WARNING mlflow.utils.autologging_utils: MLflow autologging encountered a warning: \"/Users/weston/Documents/git-repos/mlflow-workshop/venv/lib/python3.10/site-packages/_distutils_hack/__init__.py:18: UserWarning: Distutils was imported before Setuptools, but importing Setuptools also replaces the `distutils` module in `sys.modules`. This may lead to undesirable behaviors or errors. To avoid these issues, avoid using distutils directly, ensure that setuptools is installed in the traditional way (e.g. not an editable install), and/or make sure that setuptools is always imported before distutils.\"\n",
      "2024/03/04 20:10:42 WARNING mlflow.utils.autologging_utils: MLflow autologging encountered a warning: \"/Users/weston/Documents/git-repos/mlflow-workshop/venv/lib/python3.10/site-packages/_distutils_hack/__init__.py:33: UserWarning: Setuptools is replacing distutils.\"\n",
      "/Users/weston/Documents/git-repos/mlflow-workshop/venv/lib/python3.10/site-packages/mlflow/data/pandas_dataset.py:134: UserWarning: Hint: Inferred schema contains integer column(s). Integer columns in Python cannot represent missing values. If your input data contains missing values at inference time, it will be encoded as floats and will cause a schema enforcement error. The best way to avoid this problem is to infer the model schema based on a realistic data sample (training dataset) that includes missing values. Alternatively, you can declare integer columns as doubles (float64) whenever these columns may have missing values. See `Handling Integers With Missing Values <https://www.mlflow.org/docs/latest/models.html#handling-integers-with-missing-values>`_ for more details.\n",
      "  return _infer_schema(self._df)\n",
      "2024/03/04 20:10:42 INFO mlflow.models.evaluation.base: Evaluating the model with the default evaluator.\n",
      "2024/03/04 20:10:42 INFO mlflow.models.evaluation.default_evaluator: Computing model predictions.\n",
      "2024/03/04 20:10:42 INFO mlflow.models.evaluation.default_evaluator: Testing metrics on first row...\n",
      "2024/03/04 20:10:42 WARNING mlflow.models.evaluation.default_evaluator: SHAP or matplotlib package is not installed, so model explainability insights will not be logged.\n"
     ]
    }
   ],
   "source": [
    "# Run this Cell a few times just to populate some data\n",
    "import mlflow.xgboost\n",
    "import xgboost\n",
    "\n",
    "# Start another MLflow Run\n",
    "with mlflow.start_run() as run:\n",
    "    mlflow.xgboost.autolog()\n",
    "\n",
    "    xgbr = xgboost.XGBRegressor() \n",
    "    xgbr.fit(X_train, y_train)\n",
    "\n",
    "    # Evaluate our Model using MLflow\n",
    "    eval_data = X_test\n",
    "    eval_data[\"Profits\"] = y_test\n",
    "    \n",
    "    # This will load our Model\n",
    "    model_uri = mlflow.get_artifact_uri(\"model\")\n",
    "    \n",
    "    # Set the evaluation function\n",
    "    result = mlflow.evaluate(\n",
    "        model_uri,\n",
    "        eval_data,\n",
    "        targets=\"Profits\",\n",
    "        model_type=\"regressor\",\n",
    "        evaluators=\"default\"\n",
    "    )"
   ]
  },
  {
   "cell_type": "markdown",
   "id": "07c86a77-0b5e-4dd6-8290-4ae8c68202b4",
   "metadata": {},
   "source": [
    "# Evaluate our Trained Models based on Metrics\n",
    "Just like we have in the UI, you can also sift through metrics for an Experiment. We can use Pandas for this!"
   ]
  },
  {
   "cell_type": "code",
   "execution_count": 15,
   "id": "b5653161-2b8f-4d88-8143-f0485f362c8e",
   "metadata": {},
   "outputs": [
    {
     "name": "stdout",
     "output_type": "stream",
     "text": [
      "<class 'pandas.core.frame.DataFrame'>\n",
      "RangeIndex: 4 entries, 0 to 3\n",
      "Data columns (total 58 columns):\n",
      " #   Column                                  Non-Null Count  Dtype              \n",
      "---  ------                                  --------------  -----              \n",
      " 0   run_id                                  4 non-null      object             \n",
      " 1   experiment_id                           4 non-null      object             \n",
      " 2   status                                  4 non-null      object             \n",
      " 3   artifact_uri                            4 non-null      object             \n",
      " 4   start_time                              4 non-null      datetime64[ns, UTC]\n",
      " 5   end_time                                4 non-null      datetime64[ns, UTC]\n",
      " 6   metrics.root_mean_squared_error         4 non-null      float64            \n",
      " 7   metrics.mean_absolute_error             4 non-null      float64            \n",
      " 8   metrics.example_count                   4 non-null      float64            \n",
      " 9   metrics.mean_absolute_percentage_error  4 non-null      float64            \n",
      " 10  metrics.mean_on_target                  4 non-null      float64            \n",
      " 11  metrics.max_error                       4 non-null      float64            \n",
      " 12  metrics.r2_score                        4 non-null      float64            \n",
      " 13  metrics.sum_on_target                   4 non-null      float64            \n",
      " 14  metrics.mean_squared_error              4 non-null      float64            \n",
      " 15  params.predictor                        4 non-null      object             \n",
      " 16  params.objective                        4 non-null      object             \n",
      " 17  params.colsample_bytree                 4 non-null      object             \n",
      " 18  params.max_depth                        4 non-null      object             \n",
      " 19  params.eval_metric                      4 non-null      object             \n",
      " 20  params.colsample_bylevel                4 non-null      object             \n",
      " 21  params.num_boost_round                  4 non-null      object             \n",
      " 22  params.num_parallel_tree                4 non-null      object             \n",
      " 23  params.min_child_weight                 4 non-null      object             \n",
      " 24  params.n_jobs                           4 non-null      object             \n",
      " 25  params.booster                          4 non-null      object             \n",
      " 26  params.interaction_constraints          4 non-null      object             \n",
      " 27  params.max_leaves                       4 non-null      object             \n",
      " 28  params.verbosity                        4 non-null      object             \n",
      " 29  params.tree_method                      4 non-null      object             \n",
      " 30  params.reg_lambda                       4 non-null      object             \n",
      " 31  params.gamma                            4 non-null      object             \n",
      " 32  params.maximize                         4 non-null      object             \n",
      " 33  params.early_stopping_rounds            4 non-null      object             \n",
      " 34  params.max_cat_to_onehot                4 non-null      object             \n",
      " 35  params.grow_policy                      4 non-null      object             \n",
      " 36  params.sampling_method                  4 non-null      object             \n",
      " 37  params.monotone_constraints             4 non-null      object             \n",
      " 38  params.gpu_id                           4 non-null      object             \n",
      " 39  params.custom_metric                    4 non-null      object             \n",
      " 40  params.validate_parameters              4 non-null      object             \n",
      " 41  params.base_score                       4 non-null      object             \n",
      " 42  params.max_delta_step                   4 non-null      object             \n",
      " 43  params.max_bin                          4 non-null      object             \n",
      " 44  params.reg_alpha                        4 non-null      object             \n",
      " 45  params.learning_rate                    4 non-null      object             \n",
      " 46  params.verbose_eval                     4 non-null      object             \n",
      " 47  params.subsample                        4 non-null      object             \n",
      " 48  params.colsample_bynode                 4 non-null      object             \n",
      " 49  params.scale_pos_weight                 4 non-null      object             \n",
      " 50  params.random_state                     4 non-null      object             \n",
      " 51  tags.mlflow.datasets                    4 non-null      object             \n",
      " 52  tags.mlflow.user                        4 non-null      object             \n",
      " 53  tags.mlflow.source.name                 4 non-null      object             \n",
      " 54  tags.mlflow.log-model.history           4 non-null      object             \n",
      " 55  tags.mlflow.runName                     4 non-null      object             \n",
      " 56  tags.mlflow.source.git.commit           4 non-null      object             \n",
      " 57  tags.mlflow.source.type                 4 non-null      object             \n",
      "dtypes: datetime64[ns, UTC](2), float64(9), object(47)\n",
      "memory usage: 1.9+ KB\n"
     ]
    }
   ],
   "source": [
    "import mlflow\n",
    "import pandas as pd\n",
    "\n",
    "# Set Tracking URL \n",
    "mlflow.set_tracking_uri(\"sqlite:///mydb.sqlite\")\n",
    "\n",
    "# Get the Experiment ID\n",
    "experiment_id = mlflow.get_experiment_by_name(\"PotentialStartups\").experiment_id\n",
    "\n",
    "# Search runs and output to Pandas DF\n",
    "evals_df = mlflow.search_runs([experiment_id])\n",
    "evals_df.info()"
   ]
  },
  {
   "cell_type": "code",
   "execution_count": 16,
   "id": "535e8714-97b7-4c32-bf30-23745277479b",
   "metadata": {},
   "outputs": [
    {
     "data": {
      "text/html": [
       "<div>\n",
       "<style scoped>\n",
       "    .dataframe tbody tr th:only-of-type {\n",
       "        vertical-align: middle;\n",
       "    }\n",
       "\n",
       "    .dataframe tbody tr th {\n",
       "        vertical-align: top;\n",
       "    }\n",
       "\n",
       "    .dataframe thead th {\n",
       "        text-align: right;\n",
       "    }\n",
       "</style>\n",
       "<table border=\"1\" class=\"dataframe\">\n",
       "  <thead>\n",
       "    <tr style=\"text-align: right;\">\n",
       "      <th></th>\n",
       "      <th>run_id</th>\n",
       "      <th>experiment_id</th>\n",
       "      <th>status</th>\n",
       "      <th>artifact_uri</th>\n",
       "      <th>start_time</th>\n",
       "      <th>end_time</th>\n",
       "      <th>metrics.root_mean_squared_error</th>\n",
       "      <th>metrics.mean_absolute_error</th>\n",
       "      <th>metrics.example_count</th>\n",
       "      <th>metrics.mean_absolute_percentage_error</th>\n",
       "      <th>...</th>\n",
       "      <th>params.colsample_bynode</th>\n",
       "      <th>params.scale_pos_weight</th>\n",
       "      <th>params.random_state</th>\n",
       "      <th>tags.mlflow.datasets</th>\n",
       "      <th>tags.mlflow.user</th>\n",
       "      <th>tags.mlflow.source.name</th>\n",
       "      <th>tags.mlflow.log-model.history</th>\n",
       "      <th>tags.mlflow.runName</th>\n",
       "      <th>tags.mlflow.source.git.commit</th>\n",
       "      <th>tags.mlflow.source.type</th>\n",
       "    </tr>\n",
       "  </thead>\n",
       "  <tbody>\n",
       "    <tr>\n",
       "      <th>0</th>\n",
       "      <td>39c71e4e495f452388ca287da575accd</td>\n",
       "      <td>1</td>\n",
       "      <td>FINISHED</td>\n",
       "      <td>/Users/weston/Documents/git-repos/mlflow-works...</td>\n",
       "      <td>2024-03-05 01:10:40.709000+00:00</td>\n",
       "      <td>2024-03-05 01:10:43.004000+00:00</td>\n",
       "      <td>9985.875733</td>\n",
       "      <td>8204.841708</td>\n",
       "      <td>15.0</td>\n",
       "      <td>0.074113</td>\n",
       "      <td>...</td>\n",
       "      <td>None</td>\n",
       "      <td>None</td>\n",
       "      <td>None</td>\n",
       "      <td>[{\"name\":\"af248a637c03ea4b19b6b969e6d29fa2\",\"h...</td>\n",
       "      <td>weston</td>\n",
       "      <td>/Users/weston/Documents/git-repos/mlflow-works...</td>\n",
       "      <td>[{\"run_id\": \"39c71e4e495f452388ca287da575accd\"...</td>\n",
       "      <td>resilient-wasp-130</td>\n",
       "      <td>8f50d8dfe7af2a6660d5b0272ee71363c1ec782e</td>\n",
       "      <td>LOCAL</td>\n",
       "    </tr>\n",
       "    <tr>\n",
       "      <th>1</th>\n",
       "      <td>d606a8159bfe4dbfa50ebb7c2edd1dd9</td>\n",
       "      <td>1</td>\n",
       "      <td>FINISHED</td>\n",
       "      <td>/Users/weston/Documents/git-repos/mlflow-works...</td>\n",
       "      <td>2024-03-05 01:10:37.677000+00:00</td>\n",
       "      <td>2024-03-05 01:10:39.876000+00:00</td>\n",
       "      <td>9985.875733</td>\n",
       "      <td>8204.841708</td>\n",
       "      <td>15.0</td>\n",
       "      <td>0.074113</td>\n",
       "      <td>...</td>\n",
       "      <td>None</td>\n",
       "      <td>None</td>\n",
       "      <td>None</td>\n",
       "      <td>[{\"name\":\"af248a637c03ea4b19b6b969e6d29fa2\",\"h...</td>\n",
       "      <td>weston</td>\n",
       "      <td>/Users/weston/Documents/git-repos/mlflow-works...</td>\n",
       "      <td>[{\"run_id\": \"d606a8159bfe4dbfa50ebb7c2edd1dd9\"...</td>\n",
       "      <td>loud-bear-428</td>\n",
       "      <td>8f50d8dfe7af2a6660d5b0272ee71363c1ec782e</td>\n",
       "      <td>LOCAL</td>\n",
       "    </tr>\n",
       "    <tr>\n",
       "      <th>2</th>\n",
       "      <td>9453994aaa764876b2759f74db7bb902</td>\n",
       "      <td>1</td>\n",
       "      <td>FINISHED</td>\n",
       "      <td>/Users/weston/Documents/git-repos/mlflow-works...</td>\n",
       "      <td>2024-03-05 01:10:28.412000+00:00</td>\n",
       "      <td>2024-03-05 01:10:30.673000+00:00</td>\n",
       "      <td>9985.875733</td>\n",
       "      <td>8204.841708</td>\n",
       "      <td>15.0</td>\n",
       "      <td>0.074113</td>\n",
       "      <td>...</td>\n",
       "      <td>None</td>\n",
       "      <td>None</td>\n",
       "      <td>None</td>\n",
       "      <td>[{\"name\":\"af248a637c03ea4b19b6b969e6d29fa2\",\"h...</td>\n",
       "      <td>weston</td>\n",
       "      <td>/Users/weston/Documents/git-repos/mlflow-works...</td>\n",
       "      <td>[{\"run_id\": \"9453994aaa764876b2759f74db7bb902\"...</td>\n",
       "      <td>treasured-fish-926</td>\n",
       "      <td>8f50d8dfe7af2a6660d5b0272ee71363c1ec782e</td>\n",
       "      <td>LOCAL</td>\n",
       "    </tr>\n",
       "    <tr>\n",
       "      <th>3</th>\n",
       "      <td>70d86b1a31994f65835ad1034268b4d3</td>\n",
       "      <td>1</td>\n",
       "      <td>FINISHED</td>\n",
       "      <td>/Users/weston/Documents/git-repos/mlflow-works...</td>\n",
       "      <td>2024-03-05 01:07:17.935000+00:00</td>\n",
       "      <td>2024-03-05 01:08:16.025000+00:00</td>\n",
       "      <td>9985.875733</td>\n",
       "      <td>8204.841708</td>\n",
       "      <td>15.0</td>\n",
       "      <td>0.074113</td>\n",
       "      <td>...</td>\n",
       "      <td>None</td>\n",
       "      <td>None</td>\n",
       "      <td>None</td>\n",
       "      <td>[{\"name\":\"af248a637c03ea4b19b6b969e6d29fa2\",\"h...</td>\n",
       "      <td>weston</td>\n",
       "      <td>/Users/weston/Documents/git-repos/mlflow-works...</td>\n",
       "      <td>[{\"run_id\": \"70d86b1a31994f65835ad1034268b4d3\"...</td>\n",
       "      <td>serious-rat-510</td>\n",
       "      <td>8f50d8dfe7af2a6660d5b0272ee71363c1ec782e</td>\n",
       "      <td>LOCAL</td>\n",
       "    </tr>\n",
       "  </tbody>\n",
       "</table>\n",
       "<p>4 rows × 58 columns</p>\n",
       "</div>"
      ],
      "text/plain": [
       "                             run_id experiment_id    status  \\\n",
       "0  39c71e4e495f452388ca287da575accd             1  FINISHED   \n",
       "1  d606a8159bfe4dbfa50ebb7c2edd1dd9             1  FINISHED   \n",
       "2  9453994aaa764876b2759f74db7bb902             1  FINISHED   \n",
       "3  70d86b1a31994f65835ad1034268b4d3             1  FINISHED   \n",
       "\n",
       "                                        artifact_uri  \\\n",
       "0  /Users/weston/Documents/git-repos/mlflow-works...   \n",
       "1  /Users/weston/Documents/git-repos/mlflow-works...   \n",
       "2  /Users/weston/Documents/git-repos/mlflow-works...   \n",
       "3  /Users/weston/Documents/git-repos/mlflow-works...   \n",
       "\n",
       "                        start_time                         end_time  \\\n",
       "0 2024-03-05 01:10:40.709000+00:00 2024-03-05 01:10:43.004000+00:00   \n",
       "1 2024-03-05 01:10:37.677000+00:00 2024-03-05 01:10:39.876000+00:00   \n",
       "2 2024-03-05 01:10:28.412000+00:00 2024-03-05 01:10:30.673000+00:00   \n",
       "3 2024-03-05 01:07:17.935000+00:00 2024-03-05 01:08:16.025000+00:00   \n",
       "\n",
       "   metrics.root_mean_squared_error  metrics.mean_absolute_error  \\\n",
       "0                      9985.875733                  8204.841708   \n",
       "1                      9985.875733                  8204.841708   \n",
       "2                      9985.875733                  8204.841708   \n",
       "3                      9985.875733                  8204.841708   \n",
       "\n",
       "   metrics.example_count  metrics.mean_absolute_percentage_error  ...  \\\n",
       "0                   15.0                                0.074113  ...   \n",
       "1                   15.0                                0.074113  ...   \n",
       "2                   15.0                                0.074113  ...   \n",
       "3                   15.0                                0.074113  ...   \n",
       "\n",
       "   params.colsample_bynode  params.scale_pos_weight  params.random_state  \\\n",
       "0                     None                     None                 None   \n",
       "1                     None                     None                 None   \n",
       "2                     None                     None                 None   \n",
       "3                     None                     None                 None   \n",
       "\n",
       "                                tags.mlflow.datasets  tags.mlflow.user  \\\n",
       "0  [{\"name\":\"af248a637c03ea4b19b6b969e6d29fa2\",\"h...            weston   \n",
       "1  [{\"name\":\"af248a637c03ea4b19b6b969e6d29fa2\",\"h...            weston   \n",
       "2  [{\"name\":\"af248a637c03ea4b19b6b969e6d29fa2\",\"h...            weston   \n",
       "3  [{\"name\":\"af248a637c03ea4b19b6b969e6d29fa2\",\"h...            weston   \n",
       "\n",
       "                             tags.mlflow.source.name  \\\n",
       "0  /Users/weston/Documents/git-repos/mlflow-works...   \n",
       "1  /Users/weston/Documents/git-repos/mlflow-works...   \n",
       "2  /Users/weston/Documents/git-repos/mlflow-works...   \n",
       "3  /Users/weston/Documents/git-repos/mlflow-works...   \n",
       "\n",
       "                       tags.mlflow.log-model.history tags.mlflow.runName  \\\n",
       "0  [{\"run_id\": \"39c71e4e495f452388ca287da575accd\"...  resilient-wasp-130   \n",
       "1  [{\"run_id\": \"d606a8159bfe4dbfa50ebb7c2edd1dd9\"...       loud-bear-428   \n",
       "2  [{\"run_id\": \"9453994aaa764876b2759f74db7bb902\"...  treasured-fish-926   \n",
       "3  [{\"run_id\": \"70d86b1a31994f65835ad1034268b4d3\"...     serious-rat-510   \n",
       "\n",
       "              tags.mlflow.source.git.commit tags.mlflow.source.type  \n",
       "0  8f50d8dfe7af2a6660d5b0272ee71363c1ec782e                   LOCAL  \n",
       "1  8f50d8dfe7af2a6660d5b0272ee71363c1ec782e                   LOCAL  \n",
       "2  8f50d8dfe7af2a6660d5b0272ee71363c1ec782e                   LOCAL  \n",
       "3  8f50d8dfe7af2a6660d5b0272ee71363c1ec782e                   LOCAL  \n",
       "\n",
       "[4 rows x 58 columns]"
      ]
     },
     "execution_count": 16,
     "metadata": {},
     "output_type": "execute_result"
    }
   ],
   "source": [
    "evals_df"
   ]
  },
  {
   "cell_type": "code",
   "execution_count": null,
   "id": "3a02fd45-f93a-436b-b1e1-5ac29df8810a",
   "metadata": {},
   "outputs": [],
   "source": [
    "# Sort it by r2_score\n",
    "evals_df = mlflow.search_runs([experiment_id], order_by=[\"metrics.r2_score DESC\"])\n",
    "evals_df"
   ]
  },
  {
   "cell_type": "code",
   "execution_count": 18,
   "id": "01bec072-5078-4643-ba5e-7cdb9ea5b299",
   "metadata": {},
   "outputs": [
    {
     "data": {
      "text/html": [
       "<div>\n",
       "<style scoped>\n",
       "    .dataframe tbody tr th:only-of-type {\n",
       "        vertical-align: middle;\n",
       "    }\n",
       "\n",
       "    .dataframe tbody tr th {\n",
       "        vertical-align: top;\n",
       "    }\n",
       "\n",
       "    .dataframe thead th {\n",
       "        text-align: right;\n",
       "    }\n",
       "</style>\n",
       "<table border=\"1\" class=\"dataframe\">\n",
       "  <thead>\n",
       "    <tr style=\"text-align: right;\">\n",
       "      <th></th>\n",
       "      <th>metrics.r2_score</th>\n",
       "      <th>run_id</th>\n",
       "    </tr>\n",
       "  </thead>\n",
       "  <tbody>\n",
       "    <tr>\n",
       "      <th>0</th>\n",
       "      <td>0.896692</td>\n",
       "      <td>39c71e4e495f452388ca287da575accd</td>\n",
       "    </tr>\n",
       "    <tr>\n",
       "      <th>1</th>\n",
       "      <td>0.896692</td>\n",
       "      <td>d606a8159bfe4dbfa50ebb7c2edd1dd9</td>\n",
       "    </tr>\n",
       "    <tr>\n",
       "      <th>2</th>\n",
       "      <td>0.896692</td>\n",
       "      <td>9453994aaa764876b2759f74db7bb902</td>\n",
       "    </tr>\n",
       "    <tr>\n",
       "      <th>3</th>\n",
       "      <td>0.896692</td>\n",
       "      <td>70d86b1a31994f65835ad1034268b4d3</td>\n",
       "    </tr>\n",
       "  </tbody>\n",
       "</table>\n",
       "</div>"
      ],
      "text/plain": [
       "   metrics.r2_score                            run_id\n",
       "0          0.896692  39c71e4e495f452388ca287da575accd\n",
       "1          0.896692  d606a8159bfe4dbfa50ebb7c2edd1dd9\n",
       "2          0.896692  9453994aaa764876b2759f74db7bb902\n",
       "3          0.896692  70d86b1a31994f65835ad1034268b4d3"
      ]
     },
     "execution_count": 18,
     "metadata": {},
     "output_type": "execute_result"
    }
   ],
   "source": [
    "# Print ONLY the r2_score and the run_id\n",
    "evals_df[[\"metrics.r2_score\", \"run_id\"]]"
   ]
  },
  {
   "cell_type": "markdown",
   "id": "853a35d2-e231-48e2-b91a-73d3c16bb207",
   "metadata": {},
   "source": [
    "#### The above evaluation can be done on ANY metric you would like. This will help us decide which models we would like to Regster to the Model Registry"
   ]
  },
  {
   "cell_type": "markdown",
   "id": "2805a3e8-691d-4d35-a705-9cd4d180a369",
   "metadata": {},
   "source": [
    "# Register A Model | MLflow Registry\n",
    "The Model Registry is used as a way to store models in a way that allows for us to share models easily to others while also following the development lifecycle (Staging, Production, etc...). It also provides a way to version, alias, tag and annotate models as desired. \n",
    "\n",
    "We have now trained a few models and have evaluated the results. We have a model ready for initial testing and need to establish a method for team members and other company personnel to access it."
   ]
  },
  {
   "cell_type": "code",
   "execution_count": 19,
   "id": "6a14bf7b-4691-4763-afa1-c5672ca2c310",
   "metadata": {},
   "outputs": [
    {
     "data": {
      "text/plain": [
       "<RegisteredModel: aliases={}, creation_timestamp=1709601193683, description=None, last_updated_timestamp=1709601193683, latest_versions=[], name='StartupModels', tags={}>"
      ]
     },
     "execution_count": 19,
     "metadata": {},
     "output_type": "execute_result"
    }
   ],
   "source": [
    "# Create a New Model in The Model Registry using the MLflow Client\n",
    "import mlflow\n",
    "\n",
    "# Set out tracking URI\n",
    "mlflow.set_tracking_uri(\"sqlite:///mydb.sqlite\")\n",
    "\n",
    "# Create a client connection\n",
    "client = mlflow.MlflowClient()\n",
    "\n",
    "# Create a new Model in the Registry called StartupModels\n",
    "client.create_registered_model(\"StartupModels\")"
   ]
  },
  {
   "cell_type": "markdown",
   "id": "7be494ee-8319-488c-9e71-5c8db460c197",
   "metadata": {},
   "source": [
    "#### Now that we have a location to store our models lets register (add) a model to it"
   ]
  },
  {
   "cell_type": "code",
   "execution_count": null,
   "id": "c3945f71-eeca-42cd-a86b-6fac93e44d0a",
   "metadata": {},
   "outputs": [],
   "source": [
    "import mlflow\n",
    "\n",
    "# SET THESE 2 lines\n",
    "mlflow.set_tracking_uri(\"sqlite:///mydb.sqlite\")\n",
    "mlflow.set_experiment(\"PotentialStartups\")"
   ]
  },
  {
   "cell_type": "code",
   "execution_count": 20,
   "id": "994dd45f-b15f-400e-b5f8-77805fb79778",
   "metadata": {},
   "outputs": [
    {
     "name": "stderr",
     "output_type": "stream",
     "text": [
      "Registered model 'StartupModels' already exists. Creating a new version of this model...\n",
      "Created version '1' of model 'StartupModels'.\n"
     ]
    },
    {
     "data": {
      "text/plain": [
       "<ModelVersion: aliases=[], creation_timestamp=1709601224832, current_stage='None', description=None, last_updated_timestamp=1709601224832, name='StartupModels', run_id='39c71e4e495f452388ca287da575accd', run_link=None, source='/Users/weston/Documents/git-repos/mlflow-workshop/mlruns/1/39c71e4e495f452388ca287da575accd/artifacts/model', status='READY', status_message=None, tags={}, user_id=None, version=1>"
      ]
     },
     "execution_count": 20,
     "metadata": {},
     "output_type": "execute_result"
    }
   ],
   "source": [
    "# To begin using the Model Registry, Pick our favorite model from above and register it using the run-id\n",
    "run_id = \"39c71e4e495f452388ca287da575accd\"\n",
    "\n",
    "# Register the model\n",
    "mlflow.register_model(f\"runs:/{run_id}/model\", \"StartupModels\")"
   ]
  },
  {
   "cell_type": "markdown",
   "id": "23459c79-8995-4eaf-8068-33e594f368eb",
   "metadata": {},
   "source": [
    "#### Notice here, a new version of the model has been created. We could add another model here and it would continue to increment the version. This is very good practice. \n",
    "\n",
    "#### Also note here, MLflow increments versions but we can also add our own tags and aliases to models to better help identify them. This is out of scope for this workshop."
   ]
  },
  {
   "cell_type": "markdown",
   "id": "512f632a-6c1f-4a51-930e-0a407cfd6b80",
   "metadata": {},
   "source": [
    "# Deploying a Model | MLflow Registry\n",
    "Now that we have a model registered to the Model Registry, we can now use MLflow to Deploy the model. Anyone that has access to MLflow can do this. For now we are going to deploy the model locally using the version of the model when we first registered it.\n",
    "\n",
    "We will load it via the \"model_uri\" - `models:/model_name/model_version`"
   ]
  },
  {
   "cell_type": "code",
   "execution_count": 21,
   "id": "9ae3c393-b9e1-4a8a-a6e9-b97b63a2f5bf",
   "metadata": {},
   "outputs": [],
   "source": [
    "import mlflow\n",
    "\n",
    "# Set the tracking URI\n",
    "mlflow.set_tracking_uri(\"sqlite:///mydb.sqlite\")"
   ]
  },
  {
   "cell_type": "code",
   "execution_count": 22,
   "id": "517da38f-dbce-47b2-82f0-9eaa3e7c5c60",
   "metadata": {},
   "outputs": [
    {
     "data": {
      "text/html": [
       "<style>#sk-container-id-2 {color: black;background-color: white;}#sk-container-id-2 pre{padding: 0;}#sk-container-id-2 div.sk-toggleable {background-color: white;}#sk-container-id-2 label.sk-toggleable__label {cursor: pointer;display: block;width: 100%;margin-bottom: 0;padding: 0.3em;box-sizing: border-box;text-align: center;}#sk-container-id-2 label.sk-toggleable__label-arrow:before {content: \"▸\";float: left;margin-right: 0.25em;color: #696969;}#sk-container-id-2 label.sk-toggleable__label-arrow:hover:before {color: black;}#sk-container-id-2 div.sk-estimator:hover label.sk-toggleable__label-arrow:before {color: black;}#sk-container-id-2 div.sk-toggleable__content {max-height: 0;max-width: 0;overflow: hidden;text-align: left;background-color: #f0f8ff;}#sk-container-id-2 div.sk-toggleable__content pre {margin: 0.2em;color: black;border-radius: 0.25em;background-color: #f0f8ff;}#sk-container-id-2 input.sk-toggleable__control:checked~div.sk-toggleable__content {max-height: 200px;max-width: 100%;overflow: auto;}#sk-container-id-2 input.sk-toggleable__control:checked~label.sk-toggleable__label-arrow:before {content: \"▾\";}#sk-container-id-2 div.sk-estimator input.sk-toggleable__control:checked~label.sk-toggleable__label {background-color: #d4ebff;}#sk-container-id-2 div.sk-label input.sk-toggleable__control:checked~label.sk-toggleable__label {background-color: #d4ebff;}#sk-container-id-2 input.sk-hidden--visually {border: 0;clip: rect(1px 1px 1px 1px);clip: rect(1px, 1px, 1px, 1px);height: 1px;margin: -1px;overflow: hidden;padding: 0;position: absolute;width: 1px;}#sk-container-id-2 div.sk-estimator {font-family: monospace;background-color: #f0f8ff;border: 1px dotted black;border-radius: 0.25em;box-sizing: border-box;margin-bottom: 0.5em;}#sk-container-id-2 div.sk-estimator:hover {background-color: #d4ebff;}#sk-container-id-2 div.sk-parallel-item::after {content: \"\";width: 100%;border-bottom: 1px solid gray;flex-grow: 1;}#sk-container-id-2 div.sk-label:hover label.sk-toggleable__label {background-color: #d4ebff;}#sk-container-id-2 div.sk-serial::before {content: \"\";position: absolute;border-left: 1px solid gray;box-sizing: border-box;top: 0;bottom: 0;left: 50%;z-index: 0;}#sk-container-id-2 div.sk-serial {display: flex;flex-direction: column;align-items: center;background-color: white;padding-right: 0.2em;padding-left: 0.2em;position: relative;}#sk-container-id-2 div.sk-item {position: relative;z-index: 1;}#sk-container-id-2 div.sk-parallel {display: flex;align-items: stretch;justify-content: center;background-color: white;position: relative;}#sk-container-id-2 div.sk-item::before, #sk-container-id-2 div.sk-parallel-item::before {content: \"\";position: absolute;border-left: 1px solid gray;box-sizing: border-box;top: 0;bottom: 0;left: 50%;z-index: -1;}#sk-container-id-2 div.sk-parallel-item {display: flex;flex-direction: column;z-index: 1;position: relative;background-color: white;}#sk-container-id-2 div.sk-parallel-item:first-child::after {align-self: flex-end;width: 50%;}#sk-container-id-2 div.sk-parallel-item:last-child::after {align-self: flex-start;width: 50%;}#sk-container-id-2 div.sk-parallel-item:only-child::after {width: 0;}#sk-container-id-2 div.sk-dashed-wrapped {border: 1px dashed gray;margin: 0 0.4em 0.5em 0.4em;box-sizing: border-box;padding-bottom: 0.4em;background-color: white;}#sk-container-id-2 div.sk-label label {font-family: monospace;font-weight: bold;display: inline-block;line-height: 1.2em;}#sk-container-id-2 div.sk-label-container {text-align: center;}#sk-container-id-2 div.sk-container {/* jupyter's `normalize.less` sets `[hidden] { display: none; }` but bootstrap.min.css set `[hidden] { display: none !important; }` so we also need the `!important` here to be able to override the default hidden behavior on the sphinx rendered scikit-learn.org. See: https://github.com/scikit-learn/scikit-learn/issues/21755 */display: inline-block !important;position: relative;}#sk-container-id-2 div.sk-text-repr-fallback {display: none;}</style><div id=\"sk-container-id-2\" class=\"sk-top-container\"><div class=\"sk-text-repr-fallback\"><pre>XGBRegressor(base_score=0.5, booster=&#x27;gbtree&#x27;, callbacks=None,\n",
       "             colsample_bylevel=1, colsample_bynode=1, colsample_bytree=1,\n",
       "             early_stopping_rounds=None, enable_categorical=False,\n",
       "             eval_metric=None, gamma=0, gpu_id=-1, grow_policy=&#x27;depthwise&#x27;,\n",
       "             importance_type=None, interaction_constraints=&#x27;&#x27;,\n",
       "             learning_rate=0.300000012, max_bin=256, max_cat_to_onehot=4,\n",
       "             max_delta_step=0, max_depth=6, max_leaves=0, min_child_weight=1,\n",
       "             missing=nan, monotone_constraints=&#x27;()&#x27;, n_estimators=100, n_jobs=0,\n",
       "             num_parallel_tree=1, predictor=&#x27;auto&#x27;, random_state=0, reg_alpha=0,\n",
       "             reg_lambda=1, ...)</pre><b>In a Jupyter environment, please rerun this cell to show the HTML representation or trust the notebook. <br />On GitHub, the HTML representation is unable to render, please try loading this page with nbviewer.org.</b></div><div class=\"sk-container\" hidden><div class=\"sk-item\"><div class=\"sk-estimator sk-toggleable\"><input class=\"sk-toggleable__control sk-hidden--visually\" id=\"sk-estimator-id-2\" type=\"checkbox\" checked><label for=\"sk-estimator-id-2\" class=\"sk-toggleable__label sk-toggleable__label-arrow\">XGBRegressor</label><div class=\"sk-toggleable__content\"><pre>XGBRegressor(base_score=0.5, booster=&#x27;gbtree&#x27;, callbacks=None,\n",
       "             colsample_bylevel=1, colsample_bynode=1, colsample_bytree=1,\n",
       "             early_stopping_rounds=None, enable_categorical=False,\n",
       "             eval_metric=None, gamma=0, gpu_id=-1, grow_policy=&#x27;depthwise&#x27;,\n",
       "             importance_type=None, interaction_constraints=&#x27;&#x27;,\n",
       "             learning_rate=0.300000012, max_bin=256, max_cat_to_onehot=4,\n",
       "             max_delta_step=0, max_depth=6, max_leaves=0, min_child_weight=1,\n",
       "             missing=nan, monotone_constraints=&#x27;()&#x27;, n_estimators=100, n_jobs=0,\n",
       "             num_parallel_tree=1, predictor=&#x27;auto&#x27;, random_state=0, reg_alpha=0,\n",
       "             reg_lambda=1, ...)</pre></div></div></div></div></div>"
      ],
      "text/plain": [
       "XGBRegressor(base_score=0.5, booster='gbtree', callbacks=None,\n",
       "             colsample_bylevel=1, colsample_bynode=1, colsample_bytree=1,\n",
       "             early_stopping_rounds=None, enable_categorical=False,\n",
       "             eval_metric=None, gamma=0, gpu_id=-1, grow_policy='depthwise',\n",
       "             importance_type=None, interaction_constraints='',\n",
       "             learning_rate=0.300000012, max_bin=256, max_cat_to_onehot=4,\n",
       "             max_delta_step=0, max_depth=6, max_leaves=0, min_child_weight=1,\n",
       "             missing=nan, monotone_constraints='()', n_estimators=100, n_jobs=0,\n",
       "             num_parallel_tree=1, predictor='auto', random_state=0, reg_alpha=0,\n",
       "             reg_lambda=1, ...)"
      ]
     },
     "execution_count": 22,
     "metadata": {},
     "output_type": "execute_result"
    }
   ],
   "source": [
    "import mlflow\n",
    "\n",
    "# Notice here we actually use mlflow XGBoost \"flavor\" to load the model. Check the MLflow Docs for more information on Flavors!\n",
    "model = mlflow.xgboost.load_model(model_uri=\"models:/StartupModels/1\")\n",
    "model"
   ]
  },
  {
   "cell_type": "code",
   "execution_count": 23,
   "id": "779e5f69-735d-48c6-b4f4-e1dd886ffbd2",
   "metadata": {},
   "outputs": [
    {
     "data": {
      "text/plain": [
       "192257.23"
      ]
     },
     "execution_count": 23,
     "metadata": {},
     "output_type": "execute_result"
    }
   ],
   "source": [
    "# Run a quick Prediction on profit using some fake data\n",
    "\n",
    "# R&D Spend, Administration, Marketing Spend, State\n",
    "predict_list = [345349.2, 133337.8, 472345.10, 1]\n",
    "# Predict\n",
    "prediction = model.predict([predict_list])\n",
    "prediction[0]"
   ]
  },
  {
   "cell_type": "markdown",
   "id": "3ac3a11a-5526-4bae-aede-3bbfbb7b8ec6",
   "metadata": {},
   "source": [
    "### Serving via CLI\n",
    "Below is an example shell script using the MLflow CLI for serving the same model. It will serve the model via port 5000."
   ]
  },
  {
   "cell_type": "markdown",
   "id": "c7fb0785-4fe2-4b61-b30e-5abd2332e4be",
   "metadata": {},
   "source": [
    "```sh\n",
    "#!/usr/bin/env sh\n",
    "\n",
    "# Deploying a Model using the mlflow cli\n",
    "export MLFLOW_TRACKING_URI=\"sqlite:///mydb.sqlite\"\n",
    "\n",
    "# Serve the model from the \n",
    "mlflow models serve -m \"models:/StartupModels/1\" --no-conda\n",
    "```"
   ]
  },
  {
   "cell_type": "markdown",
   "id": "183c436f-4a0a-4df1-b057-6c1c116f21a7",
   "metadata": {},
   "source": [
    "# Automating Training | MLflow Projects\n",
    "As we iterate new model versions, add new data and learn from our experimentations it becomes more of a need to implement automation into our development pipeline. This is where MLflow Projects come in. MLflow Projects is a format used to package all of our code into a reproducible way. It also provides a way for us to run the automation via CLI or from the `projects()` function. \n",
    "\n",
    "We specify our Project in a file called `MLproject` which is a yaml file that specifies key pieces such as name, python environment and entry points which are ways that we can pass templated parameters and commands to scripts.\n",
    "\n",
    "Below is an example `MLproject` file that we will be using:\n",
    "\n",
    "```\n",
    "name: Potential Profit \n",
    "\n",
    "python_env: python_env.yaml\n",
    "\n",
    "entry_points:\n",
    "  main:\n",
    "    parameters:\n",
    "      n_estimators: {type: int, default: 10}\n",
    "      max_depth: {type: int, default: 5}\n",
    "    command: \"python train.py \\\n",
    "        --n_estimators {n_estimators} \\\n",
    "        --max_depth {max_depth}\"\n",
    "```\n",
    "\n",
    "The above file will allow for us to pass the parameters of `n_estimators` and `max_depth` to our command which is a python script that accepts two arguments (n_estimators` and `max_depth`). This will help us to automate a training run where we can then pass different parameters using the same code. For this we will use Argparse library.\n",
    "\n",
    "**We can automate an entire training run very very easily! Everything we have done so far we will automate with an MLflow Project!**\n"
   ]
  },
  {
   "cell_type": "markdown",
   "id": "90c7d42e-87ea-4cfd-88c2-f59b26602190",
   "metadata": {},
   "source": [
    "Our `train.py` file looks like this:\n",
    "\n",
    "```py\n",
    "import sys\n",
    "import argparse\n",
    "import mlflow\n",
    "import mlflow.xgboost\n",
    "import xgboost\n",
    "import pandas as pd\n",
    "import numpy as np\n",
    "from sklearn.model_selection import train_test_split\n",
    "\n",
    "# Set MLflow tracking server and the Experiment Name\n",
    "mlflow.set_tracking_uri(\"sqlite:///mydb.sqlite\")\n",
    "\n",
    "# Parse out our parameter Arguments\n",
    "parser = argparse.ArgumentParser()\n",
    "parser.add_argument('--n_estimators')\n",
    "parser.add_argument('--max_depth')\n",
    "args = parser.parse_args()\n",
    "\n",
    "# Set the values of our Arguments\n",
    "n_estimators = int(args.n_estimators)\n",
    "max_depth = int(args.max_depth)\n",
    "\n",
    "# Set up the Training Data\n",
    "# Load the Dataset\n",
    "df = pd.read_csv('startups_profit.csv', index_col=False)\n",
    "df['State']=df['State'].map({'New York':0,'Florida':1, 'California': 2}).astype(int)\n",
    "\n",
    "# Training Data\n",
    "X = df[[\"R&D Spend\", \"Administration\", \"Marketing Spend\",\"State\"]]\n",
    "y = df[[\"Profit\"]]\n",
    "X, y = df.iloc[:, :-1], df.iloc[:, -1] \n",
    "\n",
    "# Setting up train test split\n",
    "X_train, X_test, y_train, y_test = train_test_split(X, np.ravel(y), train_size=0.7,random_state=0)\n",
    "\n",
    "# Start a training Run and autolog it.\n",
    "with mlflow.start_run() as run:\n",
    "    mlflow.xgboost.autolog()\n",
    "    xgbr = xgboost.XGBRegressor(n_estimators=n_estimators, max_depth=max_depth) \n",
    "    xgbr.fit(X_train, y_train)\n",
    "\n",
    "    # Evaluate our Model using MLflow\n",
    "    eval_data = X_test\n",
    "    eval_data[\"Profits\"] = y_test\n",
    "    \n",
    "    # Load the model\n",
    "    model_uri = mlflow.get_artifact_uri(\"model\")\n",
    "    \n",
    "    # Evaluate the model and autolog it\n",
    "    result = mlflow.evaluate(\n",
    "        model_uri,\n",
    "        eval_data,\n",
    "        targets=\"Profits\",\n",
    "        model_type=\"regressor\",\n",
    "        evaluators=\"default\"\n",
    "    )\n",
    "\n",
    "```\n",
    "\n",
    "You can see all the steps that we have done before to train our model except we are now adding parameters to our model which is going to be passed via MLflow Projects."
   ]
  },
  {
   "cell_type": "code",
   "execution_count": 24,
   "id": "784d5ed7-3353-4fc9-83ff-72ed0ac6910e",
   "metadata": {},
   "outputs": [
    {
     "name": "stderr",
     "output_type": "stream",
     "text": [
      "2024/03/04 20:14:52 INFO mlflow.projects.utils: === Created directory /var/folders/9j/mvcchftn0h7507fkdslzrz880000gn/T/tmpm4t2lvlc for downloading remote URIs passed to arguments of type 'path' ===\n",
      "2024/03/04 20:14:52 INFO mlflow.projects.backend.local: === Running command 'python train.py --n_estimators 20 --max_depth 5' in run with ID '7ffd7fbf2cc54685a68756bbf4aeff5c' === \n",
      "2024/03/04 20:14:54 WARNING mlflow.xgboost: Unable to log dataset information to MLflow Tracking.XGBoost version must be >= 1.7.0\n",
      "2024/03/04 20:14:55 WARNING mlflow.utils.autologging_utils: MLflow autologging encountered a warning: \"/Users/weston/Documents/git-repos/mlflow-workshop/venv/lib/python3.10/site-packages/mlflow/models/signature.py:212: UserWarning: Hint: Inferred schema contains integer column(s). Integer columns in Python cannot represent missing values. If your input data contains missing values at inference time, it will be encoded as floats and will cause a schema enforcement error. The best way to avoid this problem is to infer the model schema based on a realistic data sample (training dataset) that includes missing values. Alternatively, you can declare integer columns as doubles (float64) whenever these columns may have missing values. See `Handling Integers With Missing Values <https://www.mlflow.org/docs/latest/models.html#handling-integers-with-missing-values>`_ for more details.\"\n",
      "/Users/weston/Documents/git-repos/mlflow-workshop/venv/lib/python3.10/site-packages/mlflow/data/pandas_dataset.py:134: UserWarning: Hint: Inferred schema contains integer column(s). Integer columns in Python cannot represent missing values. If your input data contains missing values at inference time, it will be encoded as floats and will cause a schema enforcement error. The best way to avoid this problem is to infer the model schema based on a realistic data sample (training dataset) that includes missing values. Alternatively, you can declare integer columns as doubles (float64) whenever these columns may have missing values. See `Handling Integers With Missing Values <https://www.mlflow.org/docs/latest/models.html#handling-integers-with-missing-values>`_ for more details.\n",
      "  return _infer_schema(self._df)\n",
      "2024/03/04 20:14:58 INFO mlflow.models.evaluation.base: Evaluating the model with the default evaluator.\n",
      "2024/03/04 20:14:58 INFO mlflow.models.evaluation.default_evaluator: Computing model predictions.\n",
      "2024/03/04 20:14:58 INFO mlflow.models.evaluation.default_evaluator: Testing metrics on first row...\n",
      "2024/03/04 20:14:58 WARNING mlflow.models.evaluation.default_evaluator: SHAP or matplotlib package is not installed, so model explainability insights will not be logged.\n",
      "2024/03/04 20:14:58 INFO mlflow.projects: === Run (ID '7ffd7fbf2cc54685a68756bbf4aeff5c') succeeded ===\n"
     ]
    },
    {
     "data": {
      "text/plain": [
       "<mlflow.projects.submitted_run.LocalSubmittedRun at 0x1416927d0>"
      ]
     },
     "execution_count": 24,
     "metadata": {},
     "output_type": "execute_result"
    }
   ],
   "source": [
    "# Lets run a Project using the projects function\n",
    "import mlflow\n",
    "\n",
    "# Set our tracking uri\n",
    "mlflow.set_tracking_uri(\"sqlite:///mydb.sqlite\")\n",
    "\n",
    "# Run the projects with our specified parameters\n",
    "mlflow.projects.run(\n",
    "    # Specifies where the MLproject file lives\n",
    "    './',\n",
    "    # Running this on the main entry point\n",
    "    entry_point='main',\n",
    "    # Here is our Experiment Name.\n",
    "    experiment_name='PotentialStartups',\n",
    "    # Using the local environment\n",
    "    env_manager='local',\n",
    "    # Set our Desired parameters for our model\n",
    "    parameters={\n",
    "        'n_estimators': 20, \n",
    "        'max_depth': 5\n",
    "    })\n"
   ]
  },
  {
   "cell_type": "code",
   "execution_count": 25,
   "id": "a95140cb-fc08-4b80-8799-8368d96bfab8",
   "metadata": {},
   "outputs": [],
   "source": [
    "# Lets just check to make sure it worked\n",
    "import mlflow\n",
    "import pandas as pd\n",
    "\n",
    "# Set Tracking URL \n",
    "mlflow.set_tracking_uri(\"sqlite:///mydb.sqlite\")\n",
    "\n",
    "# Get the Experiment ID\n",
    "experiment_id = mlflow.get_experiment_by_name(\"PotentialStartups\").experiment_id"
   ]
  },
  {
   "cell_type": "code",
   "execution_count": 27,
   "id": "a79d8d9b-9739-42e1-bada-512652ba224d",
   "metadata": {},
   "outputs": [
    {
     "data": {
      "text/plain": [
       "0     True\n",
       "1    False\n",
       "2    False\n",
       "3    False\n",
       "4    False\n",
       "Name: run_id, dtype: bool"
      ]
     },
     "execution_count": 27,
     "metadata": {},
     "output_type": "execute_result"
    }
   ],
   "source": [
    "# Search runs and output to Pandas DF. You can get the run_id from the output from the Project run.\n",
    "evals_df = mlflow.search_runs([experiment_id])\n",
    "evals_df['run_id']==\"7ffd7fbf2cc54685a68756bbf4aeff5c\""
   ]
  },
  {
   "cell_type": "markdown",
   "id": "f21da6d4-55c2-4962-97fd-da37f84c6ffe",
   "metadata": {},
   "source": [
    "## Taking Automation Further with Projects\n",
    "- Use tools like Dask or Ray to train multiple Models at a time with different Parameters\n",
    "- Dask Hyperparameter Search is a great option\n",
    "- Train multiple models at the same time in parallel\n"
   ]
  },
  {
   "cell_type": "code",
   "execution_count": 28,
   "id": "3571c1f6-9157-4abf-a904-7ab329353a90",
   "metadata": {},
   "outputs": [
    {
     "name": "stdout",
     "output_type": "stream",
     "text": [
      "Requirement already satisfied: dask in ./venv/lib/python3.10/site-packages (2024.2.0)\n",
      "Requirement already satisfied: toolz>=0.10.0 in ./venv/lib/python3.10/site-packages (from dask) (0.12.1)\n",
      "Requirement already satisfied: click>=8.1 in ./venv/lib/python3.10/site-packages (from dask) (8.1.7)\n",
      "Requirement already satisfied: packaging>=20.0 in ./venv/lib/python3.10/site-packages (from dask) (23.2)\n",
      "Requirement already satisfied: importlib-metadata>=4.13.0 in ./venv/lib/python3.10/site-packages (from dask) (6.11.0)\n",
      "Requirement already satisfied: cloudpickle>=1.5.0 in ./venv/lib/python3.10/site-packages (from dask) (2.2.1)\n",
      "Requirement already satisfied: pyyaml>=5.3.1 in ./venv/lib/python3.10/site-packages (from dask) (6.0.1)\n",
      "Requirement already satisfied: fsspec>=2021.09.0 in ./venv/lib/python3.10/site-packages (from dask) (2024.2.0)\n",
      "Requirement already satisfied: partd>=1.2.0 in ./venv/lib/python3.10/site-packages (from dask) (1.4.1)\n",
      "Requirement already satisfied: zipp>=0.5 in ./venv/lib/python3.10/site-packages (from importlib-metadata>=4.13.0->dask) (3.17.0)\n",
      "Requirement already satisfied: locket in ./venv/lib/python3.10/site-packages (from partd>=1.2.0->dask) (1.0.0)\n",
      "\n",
      "\u001b[1m[\u001b[0m\u001b[34;49mnotice\u001b[0m\u001b[1;39;49m]\u001b[0m\u001b[39;49m A new release of pip available: \u001b[0m\u001b[31;49m22.2.2\u001b[0m\u001b[39;49m -> \u001b[0m\u001b[32;49m24.0\u001b[0m\n",
      "\u001b[1m[\u001b[0m\u001b[34;49mnotice\u001b[0m\u001b[1;39;49m]\u001b[0m\u001b[39;49m To update, run: \u001b[0m\u001b[32;49mpip install --upgrade pip\u001b[0m\n"
     ]
    }
   ],
   "source": [
    "!pip install dask"
   ]
  },
  {
   "cell_type": "code",
   "execution_count": 29,
   "id": "9a094bb0-4e97-48b1-b2d6-0ea40b2b828e",
   "metadata": {},
   "outputs": [],
   "source": [
    "# Here we are creating a list of parameters to be passed to our train_model function below.\n",
    "import random\n",
    "\n",
    "parameters = [\n",
    "    {'n_estimators': 10, 'max_depth': 2},\n",
    "    {'n_estimators': 50, 'max_depth': 3},\n",
    "    {'n_estimators': 100, 'max_depth': 4},\n",
    "    {'n_estimators': 20, 'max_depth': 5},\n",
    "    {'n_estimators': 150, 'max_depth': 6},\n",
    "    {'n_estimators': 250, 'max_depth': 7},\n",
    "    {'n_estimators': random.randint(0, 250), 'max_depth': 8},\n",
    "    {'n_estimators': random.randint(0, 250), 'max_depth': 9},\n",
    "    {'n_estimators': random.randint(0, 250), 'max_depth': 10},\n",
    "    {'n_estimators': random.randint(0, 250), 'max_depth': 9},\n",
    "    {'n_estimators': random.randint(0, 250), 'max_depth': 8},\n",
    "    {'n_estimators': random.randint(0, 250), 'max_depth': 7},\n",
    "    {'n_estimators': random.randint(0, 250), 'max_depth': 6},\n",
    "    {'n_estimators': random.randint(0, 250), 'max_depth': 5},\n",
    "    {'n_estimators': random.randint(0, 250), 'max_depth': 10}\n",
    "]"
   ]
  },
  {
   "cell_type": "code",
   "execution_count": 30,
   "id": "ab1291d6-9285-4840-9717-bfc976e5db7d",
   "metadata": {},
   "outputs": [
    {
     "data": {
      "text/plain": [
       "15"
      ]
     },
     "execution_count": 30,
     "metadata": {},
     "output_type": "execute_result"
    }
   ],
   "source": [
    "len(parameters)"
   ]
  },
  {
   "cell_type": "code",
   "execution_count": 31,
   "id": "d699c8ac-7b8e-4065-a0e0-0367c60c96d1",
   "metadata": {},
   "outputs": [],
   "source": [
    "# Using the same Projects functions as above but we take the parameters from a dictionary in dask delayed decorator\n",
    "import dask\n",
    "import mlflow\n",
    "\n",
    "@dask.delayed\n",
    "def train_model(parameters):\n",
    "    # Set our tracking uri\n",
    "    mlflow.set_tracking_uri(\"sqlite:///mydb.sqlite\")\n",
    "\n",
    "    # Run the projects with our specified parameters\n",
    "    mlflow.projects.run(\n",
    "        # Specifies where the MLproject file lives\n",
    "        './',\n",
    "        # Running this on the main entry point\n",
    "        entry_point='main',\n",
    "        # Here is our Experiment Name.\n",
    "        experiment_name='PotentialStartups',\n",
    "        # Using the local environment\n",
    "        env_manager='local',\n",
    "        # Set our Desired parameters for our model\n",
    "        parameters={\n",
    "            'n_estimators': parameters['n_estimators'], \n",
    "            'max_depth': parameters['max_depth']\n",
    "        })\n",
    "\n",
    "\n",
    "\n"
   ]
  },
  {
   "cell_type": "code",
   "execution_count": 32,
   "id": "7b8f205a-c4b7-4e48-aab6-e59a194917d6",
   "metadata": {},
   "outputs": [
    {
     "name": "stderr",
     "output_type": "stream",
     "text": [
      "2024/03/04 20:15:42 INFO mlflow.projects.utils: === Created directory /var/folders/9j/mvcchftn0h7507fkdslzrz880000gn/T/tmp021sn9e7 for downloading remote URIs passed to arguments of type 'path' ===\n",
      "2024/03/04 20:15:42 INFO mlflow.projects.backend.local: === Running command 'python train.py --n_estimators 11 --max_depth 5' in run with ID '3eec879f15364996be2a5c42a61d4c66' === \n",
      "2024/03/04 20:15:42 INFO mlflow.projects.utils: === Created directory /var/folders/9j/mvcchftn0h7507fkdslzrz880000gn/T/tmpmiuh79gh for downloading remote URIs passed to arguments of type 'path' ===\n",
      "2024/03/04 20:15:42 INFO mlflow.projects.backend.local: === Running command 'python train.py --n_estimators 225 --max_depth 8' in run with ID 'ac9ce1b7efc24f97ab3b98ff79007c15' === \n",
      "2024/03/04 20:15:42 INFO mlflow.projects.utils: === Created directory /var/folders/9j/mvcchftn0h7507fkdslzrz880000gn/T/tmp7qp37bme for downloading remote URIs passed to arguments of type 'path' ===\n",
      "2024/03/04 20:15:42 INFO mlflow.projects.backend.local: === Running command 'python train.py --n_estimators 186 --max_depth 10' in run with ID '676a3f2ea3c44c4ca158b9bd8a8d031e' === \n",
      "2024/03/04 20:15:42 INFO mlflow.projects.utils: === Created directory /var/folders/9j/mvcchftn0h7507fkdslzrz880000gn/T/tmp1h8zo89k for downloading remote URIs passed to arguments of type 'path' ===\n",
      "2024/03/04 20:15:42 INFO mlflow.projects.backend.local: === Running command 'python train.py --n_estimators 100 --max_depth 4' in run with ID 'd9d294e775164c7681c2885028505e4d' === \n",
      "2024/03/04 20:15:42 INFO mlflow.projects.utils: === Created directory /var/folders/9j/mvcchftn0h7507fkdslzrz880000gn/T/tmp_j25fnh2 for downloading remote URIs passed to arguments of type 'path' ===\n",
      "2024/03/04 20:15:42 INFO mlflow.projects.backend.local: === Running command 'python train.py --n_estimators 132 --max_depth 8' in run with ID 'e3e2367477b34a2c8d599021b14f8ee1' === \n",
      "2024/03/04 20:15:42 INFO mlflow.projects.utils: === Created directory /var/folders/9j/mvcchftn0h7507fkdslzrz880000gn/T/tmp_gr9s4eo for downloading remote URIs passed to arguments of type 'path' ===\n",
      "2024/03/04 20:15:42 INFO mlflow.projects.backend.local: === Running command 'python train.py --n_estimators 213 --max_depth 7' in run with ID 'b19dbb5fb90241c98602dc282e124063' === \n",
      "2024/03/04 20:15:42 INFO mlflow.projects.utils: === Created directory /var/folders/9j/mvcchftn0h7507fkdslzrz880000gn/T/tmptqf985mm for downloading remote URIs passed to arguments of type 'path' ===\n",
      "2024/03/04 20:15:42 INFO mlflow.projects.backend.local: === Running command 'python train.py --n_estimators 150 --max_depth 6' in run with ID 'a9e4c11d05b6499c8b4c75dd12963458' === \n",
      "2024/03/04 20:15:42 INFO mlflow.projects.utils: === Created directory /var/folders/9j/mvcchftn0h7507fkdslzrz880000gn/T/tmp_ywezlzm for downloading remote URIs passed to arguments of type 'path' ===\n",
      "2024/03/04 20:15:42 INFO mlflow.projects.backend.local: === Running command 'python train.py --n_estimators 51 --max_depth 6' in run with ID '2158ce5c59ff422a82f34169a331d5c9' === \n",
      "2024/03/04 20:15:42 INFO mlflow.projects.utils: === Created directory /var/folders/9j/mvcchftn0h7507fkdslzrz880000gn/T/tmpqf4isgxc for downloading remote URIs passed to arguments of type 'path' ===\n",
      "2024/03/04 20:15:42 INFO mlflow.projects.backend.local: === Running command 'python train.py --n_estimators 10 --max_depth 2' in run with ID 'ff773a19e2c44f978f4699d4dcaad287' === \n",
      "2024/03/04 20:15:43 INFO mlflow.projects.utils: === Created directory /var/folders/9j/mvcchftn0h7507fkdslzrz880000gn/T/tmpp59w54sa for downloading remote URIs passed to arguments of type 'path' ===\n",
      "2024/03/04 20:15:43 INFO mlflow.projects.backend.local: === Running command 'python train.py --n_estimators 20 --max_depth 5' in run with ID '1e19b1df2bf94930935053fff1cb0274' === \n",
      "2024/03/04 20:15:43 INFO mlflow.projects.utils: === Created directory /var/folders/9j/mvcchftn0h7507fkdslzrz880000gn/T/tmp052ia7r1 for downloading remote URIs passed to arguments of type 'path' ===\n",
      "2024/03/04 20:15:43 INFO mlflow.projects.backend.local: === Running command 'python train.py --n_estimators 250 --max_depth 7' in run with ID '995c486cfd7b4d5f98e340a0f0dbc9c8' === \n",
      "2024/03/04 20:15:43 INFO mlflow.projects.utils: === Created directory /var/folders/9j/mvcchftn0h7507fkdslzrz880000gn/T/tmpxyp5uu3k for downloading remote URIs passed to arguments of type 'path' ===\n",
      "2024/03/04 20:15:43 INFO mlflow.projects.backend.local: === Running command 'python train.py --n_estimators 224 --max_depth 9' in run with ID 'c8bdd01953084158b03627006ccf6445' === \n",
      "2024/03/04 20:15:43 INFO mlflow.projects.utils: === Created directory /var/folders/9j/mvcchftn0h7507fkdslzrz880000gn/T/tmpilihxvlg for downloading remote URIs passed to arguments of type 'path' ===\n",
      "2024/03/04 20:15:43 INFO mlflow.projects.backend.local: === Running command 'python train.py --n_estimators 161 --max_depth 10' in run with ID '64e78e031ca145929b20f7ee6264cbf0' === \n",
      "2024/03/04 20:15:43 INFO mlflow.projects.utils: === Created directory /var/folders/9j/mvcchftn0h7507fkdslzrz880000gn/T/tmpk0vipcpx for downloading remote URIs passed to arguments of type 'path' ===\n",
      "2024/03/04 20:15:43 INFO mlflow.projects.backend.local: === Running command 'python train.py --n_estimators 250 --max_depth 9' in run with ID '0080335e3ca648b89ad6eded4418bc69' === \n",
      "2024/03/04 20:15:43 INFO mlflow.projects.utils: === Created directory /var/folders/9j/mvcchftn0h7507fkdslzrz880000gn/T/tmpjr7smrzv for downloading remote URIs passed to arguments of type 'path' ===\n",
      "2024/03/04 20:15:43 INFO mlflow.projects.backend.local: === Running command 'python train.py --n_estimators 50 --max_depth 3' in run with ID 'b90feee140914382964a3a2fc6f1475f' === \n",
      "2024/03/04 20:15:46 WARNING mlflow.xgboost: Unable to log dataset information to MLflow Tracking.XGBoost version must be >= 1.7.0\n",
      "2024/03/04 20:15:46 WARNING mlflow.xgboost: Unable to log dataset information to MLflow Tracking.XGBoost version must be >= 1.7.0\n",
      "2024/03/04 20:15:46 WARNING mlflow.xgboost: Unable to log dataset information to MLflow Tracking.XGBoost version must be >= 1.7.0\n",
      "2024/03/04 20:15:46 WARNING mlflow.xgboost: Unable to log dataset information to MLflow Tracking.XGBoost version must be >= 1.7.0\n",
      "2024/03/04 20:15:46 WARNING mlflow.xgboost: Unable to log dataset information to MLflow Tracking.XGBoost version must be >= 1.7.0\n",
      "2024/03/04 20:15:46 WARNING mlflow.xgboost: Unable to log dataset information to MLflow Tracking.XGBoost version must be >= 1.7.0\n",
      "2024/03/04 20:15:46 WARNING mlflow.xgboost: Unable to log dataset information to MLflow Tracking.XGBoost version must be >= 1.7.0\n",
      "2024/03/04 20:15:46 WARNING mlflow.xgboost: Unable to log dataset information to MLflow Tracking.XGBoost version must be >= 1.7.0\n",
      "2024/03/04 20:15:46 WARNING mlflow.xgboost: Unable to log dataset information to MLflow Tracking.XGBoost version must be >= 1.7.0\n",
      "2024/03/04 20:15:46 WARNING mlflow.xgboost: Unable to log dataset information to MLflow Tracking.XGBoost version must be >= 1.7.0\n",
      "2024/03/04 20:15:47 WARNING mlflow.xgboost: Unable to log dataset information to MLflow Tracking.XGBoost version must be >= 1.7.0\n",
      "2024/03/04 20:15:47 WARNING mlflow.xgboost: Unable to log dataset information to MLflow Tracking.XGBoost version must be >= 1.7.0\n",
      "2024/03/04 20:15:47 WARNING mlflow.xgboost: Unable to log dataset information to MLflow Tracking.XGBoost version must be >= 1.7.0\n",
      "2024/03/04 20:15:47 WARNING mlflow.xgboost: Unable to log dataset information to MLflow Tracking.XGBoost version must be >= 1.7.0\n",
      "2024/03/04 20:15:47 WARNING mlflow.xgboost: Unable to log dataset information to MLflow Tracking.XGBoost version must be >= 1.7.0\n",
      "2024/03/04 20:15:47 WARNING mlflow.utils.autologging_utils: MLflow autologging encountered a warning: \"/Users/weston/Documents/git-repos/mlflow-workshop/venv/lib/python3.10/site-packages/mlflow/models/signature.py:212: UserWarning: Hint: Inferred schema contains integer column(s). Integer columns in Python cannot represent missing values. If your input data contains missing values at inference time, it will be encoded as floats and will cause a schema enforcement error. The best way to avoid this problem is to infer the model schema based on a realistic data sample (training dataset) that includes missing values. Alternatively, you can declare integer columns as doubles (float64) whenever these columns may have missing values. See `Handling Integers With Missing Values <https://www.mlflow.org/docs/latest/models.html#handling-integers-with-missing-values>`_ for more details.\"\n",
      "2024/03/04 20:15:47 WARNING mlflow.utils.autologging_utils: MLflow autologging encountered a warning: \"/Users/weston/Documents/git-repos/mlflow-workshop/venv/lib/python3.10/site-packages/mlflow/models/signature.py:212: UserWarning: Hint: Inferred schema contains integer column(s). Integer columns in Python cannot represent missing values. If your input data contains missing values at inference time, it will be encoded as floats and will cause a schema enforcement error. The best way to avoid this problem is to infer the model schema based on a realistic data sample (training dataset) that includes missing values. Alternatively, you can declare integer columns as doubles (float64) whenever these columns may have missing values. See `Handling Integers With Missing Values <https://www.mlflow.org/docs/latest/models.html#handling-integers-with-missing-values>`_ for more details.\"\n",
      "2024/03/04 20:15:48 WARNING mlflow.utils.autologging_utils: MLflow autologging encountered a warning: \"/Users/weston/Documents/git-repos/mlflow-workshop/venv/lib/python3.10/site-packages/mlflow/models/signature.py:212: UserWarning: Hint: Inferred schema contains integer column(s). Integer columns in Python cannot represent missing values. If your input data contains missing values at inference time, it will be encoded as floats and will cause a schema enforcement error. The best way to avoid this problem is to infer the model schema based on a realistic data sample (training dataset) that includes missing values. Alternatively, you can declare integer columns as doubles (float64) whenever these columns may have missing values. See `Handling Integers With Missing Values <https://www.mlflow.org/docs/latest/models.html#handling-integers-with-missing-values>`_ for more details.\"\n",
      "2024/03/04 20:15:48 WARNING mlflow.utils.autologging_utils: MLflow autologging encountered a warning: \"/Users/weston/Documents/git-repos/mlflow-workshop/venv/lib/python3.10/site-packages/mlflow/models/signature.py:212: UserWarning: Hint: Inferred schema contains integer column(s). Integer columns in Python cannot represent missing values. If your input data contains missing values at inference time, it will be encoded as floats and will cause a schema enforcement error. The best way to avoid this problem is to infer the model schema based on a realistic data sample (training dataset) that includes missing values. Alternatively, you can declare integer columns as doubles (float64) whenever these columns may have missing values. See `Handling Integers With Missing Values <https://www.mlflow.org/docs/latest/models.html#handling-integers-with-missing-values>`_ for more details.\"\n",
      "2024/03/04 20:15:49 WARNING mlflow.utils.autologging_utils: MLflow autologging encountered a warning: \"/Users/weston/Documents/git-repos/mlflow-workshop/venv/lib/python3.10/site-packages/mlflow/models/signature.py:212: UserWarning: Hint: Inferred schema contains integer column(s). Integer columns in Python cannot represent missing values. If your input data contains missing values at inference time, it will be encoded as floats and will cause a schema enforcement error. The best way to avoid this problem is to infer the model schema based on a realistic data sample (training dataset) that includes missing values. Alternatively, you can declare integer columns as doubles (float64) whenever these columns may have missing values. See `Handling Integers With Missing Values <https://www.mlflow.org/docs/latest/models.html#handling-integers-with-missing-values>`_ for more details.\"\n",
      "2024/03/04 20:15:49 WARNING mlflow.utils.autologging_utils: MLflow autologging encountered a warning: \"/Users/weston/Documents/git-repos/mlflow-workshop/venv/lib/python3.10/site-packages/mlflow/models/signature.py:212: UserWarning: Hint: Inferred schema contains integer column(s). Integer columns in Python cannot represent missing values. If your input data contains missing values at inference time, it will be encoded as floats and will cause a schema enforcement error. The best way to avoid this problem is to infer the model schema based on a realistic data sample (training dataset) that includes missing values. Alternatively, you can declare integer columns as doubles (float64) whenever these columns may have missing values. See `Handling Integers With Missing Values <https://www.mlflow.org/docs/latest/models.html#handling-integers-with-missing-values>`_ for more details.\"\n",
      "2024/03/04 20:15:51 WARNING mlflow.utils.autologging_utils: MLflow autologging encountered a warning: \"/Users/weston/Documents/git-repos/mlflow-workshop/venv/lib/python3.10/site-packages/mlflow/models/signature.py:212: UserWarning: Hint: Inferred schema contains integer column(s). Integer columns in Python cannot represent missing values. If your input data contains missing values at inference time, it will be encoded as floats and will cause a schema enforcement error. The best way to avoid this problem is to infer the model schema based on a realistic data sample (training dataset) that includes missing values. Alternatively, you can declare integer columns as doubles (float64) whenever these columns may have missing values. See `Handling Integers With Missing Values <https://www.mlflow.org/docs/latest/models.html#handling-integers-with-missing-values>`_ for more details.\"\n",
      "2024/03/04 20:15:52 WARNING mlflow.utils.autologging_utils: MLflow autologging encountered a warning: \"/Users/weston/Documents/git-repos/mlflow-workshop/venv/lib/python3.10/site-packages/mlflow/models/signature.py:212: UserWarning: Hint: Inferred schema contains integer column(s). Integer columns in Python cannot represent missing values. If your input data contains missing values at inference time, it will be encoded as floats and will cause a schema enforcement error. The best way to avoid this problem is to infer the model schema based on a realistic data sample (training dataset) that includes missing values. Alternatively, you can declare integer columns as doubles (float64) whenever these columns may have missing values. See `Handling Integers With Missing Values <https://www.mlflow.org/docs/latest/models.html#handling-integers-with-missing-values>`_ for more details.\"\n",
      "/Users/weston/Documents/git-repos/mlflow-workshop/venv/lib/python3.10/site-packages/mlflow/data/pandas_dataset.py:134: UserWarning: Hint: Inferred schema contains integer column(s). Integer columns in Python cannot represent missing values. If your input data contains missing values at inference time, it will be encoded as floats and will cause a schema enforcement error. The best way to avoid this problem is to infer the model schema based on a realistic data sample (training dataset) that includes missing values. Alternatively, you can declare integer columns as doubles (float64) whenever these columns may have missing values. See `Handling Integers With Missing Values <https://www.mlflow.org/docs/latest/models.html#handling-integers-with-missing-values>`_ for more details.\n",
      "  return _infer_schema(self._df)\n",
      "2024/03/04 20:15:52 INFO mlflow.models.evaluation.base: Evaluating the model with the default evaluator.\n",
      "2024/03/04 20:15:52 INFO mlflow.models.evaluation.default_evaluator: Computing model predictions.\n",
      "2024/03/04 20:15:52 INFO mlflow.models.evaluation.default_evaluator: Testing metrics on first row...\n",
      "2024/03/04 20:15:52 WARNING mlflow.models.evaluation.default_evaluator: SHAP or matplotlib package is not installed, so model explainability insights will not be logged.\n",
      "/Users/weston/Documents/git-repos/mlflow-workshop/venv/lib/python3.10/site-packages/mlflow/data/pandas_dataset.py:134: UserWarning: Hint: Inferred schema contains integer column(s). Integer columns in Python cannot represent missing values. If your input data contains missing values at inference time, it will be encoded as floats and will cause a schema enforcement error. The best way to avoid this problem is to infer the model schema based on a realistic data sample (training dataset) that includes missing values. Alternatively, you can declare integer columns as doubles (float64) whenever these columns may have missing values. See `Handling Integers With Missing Values <https://www.mlflow.org/docs/latest/models.html#handling-integers-with-missing-values>`_ for more details.\n",
      "  return _infer_schema(self._df)\n",
      "2024/03/04 20:15:52 INFO mlflow.models.evaluation.base: Evaluating the model with the default evaluator.\n",
      "2024/03/04 20:15:52 INFO mlflow.models.evaluation.default_evaluator: Computing model predictions.\n",
      "2024/03/04 20:15:52 INFO mlflow.models.evaluation.default_evaluator: Testing metrics on first row...\n",
      "2024/03/04 20:15:52 WARNING mlflow.models.evaluation.default_evaluator: SHAP or matplotlib package is not installed, so model explainability insights will not be logged.\n",
      "/Users/weston/Documents/git-repos/mlflow-workshop/venv/lib/python3.10/site-packages/mlflow/data/pandas_dataset.py:134: UserWarning: Hint: Inferred schema contains integer column(s). Integer columns in Python cannot represent missing values. If your input data contains missing values at inference time, it will be encoded as floats and will cause a schema enforcement error. The best way to avoid this problem is to infer the model schema based on a realistic data sample (training dataset) that includes missing values. Alternatively, you can declare integer columns as doubles (float64) whenever these columns may have missing values. See `Handling Integers With Missing Values <https://www.mlflow.org/docs/latest/models.html#handling-integers-with-missing-values>`_ for more details.\n",
      "  return _infer_schema(self._df)\n",
      "2024/03/04 20:15:53 INFO mlflow.models.evaluation.base: Evaluating the model with the default evaluator.\n",
      "2024/03/04 20:15:53 INFO mlflow.models.evaluation.default_evaluator: Computing model predictions.\n",
      "2024/03/04 20:15:53 INFO mlflow.models.evaluation.default_evaluator: Testing metrics on first row...\n",
      "2024/03/04 20:15:53 WARNING mlflow.models.evaluation.default_evaluator: SHAP or matplotlib package is not installed, so model explainability insights will not be logged.\n",
      "2024/03/04 20:15:53 WARNING mlflow.utils.autologging_utils: MLflow autologging encountered a warning: \"/Users/weston/Documents/git-repos/mlflow-workshop/venv/lib/python3.10/site-packages/mlflow/models/signature.py:212: UserWarning: Hint: Inferred schema contains integer column(s). Integer columns in Python cannot represent missing values. If your input data contains missing values at inference time, it will be encoded as floats and will cause a schema enforcement error. The best way to avoid this problem is to infer the model schema based on a realistic data sample (training dataset) that includes missing values. Alternatively, you can declare integer columns as doubles (float64) whenever these columns may have missing values. See `Handling Integers With Missing Values <https://www.mlflow.org/docs/latest/models.html#handling-integers-with-missing-values>`_ for more details.\"\n",
      "2024/03/04 20:15:53 INFO mlflow.projects: === Run (ID '3eec879f15364996be2a5c42a61d4c66') succeeded ===\n",
      "2024/03/04 20:15:53 WARNING mlflow.utils.autologging_utils: MLflow autologging encountered a warning: \"/Users/weston/Documents/git-repos/mlflow-workshop/venv/lib/python3.10/site-packages/mlflow/models/signature.py:212: UserWarning: Hint: Inferred schema contains integer column(s). Integer columns in Python cannot represent missing values. If your input data contains missing values at inference time, it will be encoded as floats and will cause a schema enforcement error. The best way to avoid this problem is to infer the model schema based on a realistic data sample (training dataset) that includes missing values. Alternatively, you can declare integer columns as doubles (float64) whenever these columns may have missing values. See `Handling Integers With Missing Values <https://www.mlflow.org/docs/latest/models.html#handling-integers-with-missing-values>`_ for more details.\"\n",
      "2024/03/04 20:15:54 INFO mlflow.projects: === Run (ID 'ff773a19e2c44f978f4699d4dcaad287') succeeded ===\n",
      "/Users/weston/Documents/git-repos/mlflow-workshop/venv/lib/python3.10/site-packages/mlflow/data/pandas_dataset.py:134: UserWarning: Hint: Inferred schema contains integer column(s). Integer columns in Python cannot represent missing values. If your input data contains missing values at inference time, it will be encoded as floats and will cause a schema enforcement error. The best way to avoid this problem is to infer the model schema based on a realistic data sample (training dataset) that includes missing values. Alternatively, you can declare integer columns as doubles (float64) whenever these columns may have missing values. See `Handling Integers With Missing Values <https://www.mlflow.org/docs/latest/models.html#handling-integers-with-missing-values>`_ for more details.\n",
      "  return _infer_schema(self._df)\n",
      "2024/03/04 20:15:54 INFO mlflow.models.evaluation.base: Evaluating the model with the default evaluator.\n",
      "2024/03/04 20:15:54 INFO mlflow.models.evaluation.default_evaluator: Computing model predictions.\n",
      "2024/03/04 20:15:54 INFO mlflow.models.evaluation.default_evaluator: Testing metrics on first row...\n",
      "2024/03/04 20:15:54 WARNING mlflow.models.evaluation.default_evaluator: SHAP or matplotlib package is not installed, so model explainability insights will not be logged.\n",
      "2024/03/04 20:15:54 INFO mlflow.projects: === Run (ID '1e19b1df2bf94930935053fff1cb0274') succeeded ===\n",
      "/Users/weston/Documents/git-repos/mlflow-workshop/venv/lib/python3.10/site-packages/mlflow/data/pandas_dataset.py:134: UserWarning: Hint: Inferred schema contains integer column(s). Integer columns in Python cannot represent missing values. If your input data contains missing values at inference time, it will be encoded as floats and will cause a schema enforcement error. The best way to avoid this problem is to infer the model schema based on a realistic data sample (training dataset) that includes missing values. Alternatively, you can declare integer columns as doubles (float64) whenever these columns may have missing values. See `Handling Integers With Missing Values <https://www.mlflow.org/docs/latest/models.html#handling-integers-with-missing-values>`_ for more details.\n",
      "  return _infer_schema(self._df)\n",
      "2024/03/04 20:15:54 INFO mlflow.models.evaluation.base: Evaluating the model with the default evaluator.\n",
      "2024/03/04 20:15:54 INFO mlflow.models.evaluation.default_evaluator: Computing model predictions.\n",
      "2024/03/04 20:15:54 INFO mlflow.models.evaluation.default_evaluator: Testing metrics on first row...\n",
      "2024/03/04 20:15:54 WARNING mlflow.models.evaluation.default_evaluator: SHAP or matplotlib package is not installed, so model explainability insights will not be logged.\n",
      "2024/03/04 20:15:55 INFO mlflow.projects: === Run (ID 'b90feee140914382964a3a2fc6f1475f') succeeded ===\n",
      "2024/03/04 20:15:55 WARNING mlflow.utils.autologging_utils: MLflow autologging encountered a warning: \"/Users/weston/Documents/git-repos/mlflow-workshop/venv/lib/python3.10/site-packages/mlflow/models/signature.py:212: UserWarning: Hint: Inferred schema contains integer column(s). Integer columns in Python cannot represent missing values. If your input data contains missing values at inference time, it will be encoded as floats and will cause a schema enforcement error. The best way to avoid this problem is to infer the model schema based on a realistic data sample (training dataset) that includes missing values. Alternatively, you can declare integer columns as doubles (float64) whenever these columns may have missing values. See `Handling Integers With Missing Values <https://www.mlflow.org/docs/latest/models.html#handling-integers-with-missing-values>`_ for more details.\"\n",
      "/Users/weston/Documents/git-repos/mlflow-workshop/venv/lib/python3.10/site-packages/mlflow/data/pandas_dataset.py:134: UserWarning: Hint: Inferred schema contains integer column(s). Integer columns in Python cannot represent missing values. If your input data contains missing values at inference time, it will be encoded as floats and will cause a schema enforcement error. The best way to avoid this problem is to infer the model schema based on a realistic data sample (training dataset) that includes missing values. Alternatively, you can declare integer columns as doubles (float64) whenever these columns may have missing values. See `Handling Integers With Missing Values <https://www.mlflow.org/docs/latest/models.html#handling-integers-with-missing-values>`_ for more details.\n",
      "  return _infer_schema(self._df)\n",
      "2024/03/04 20:15:55 INFO mlflow.models.evaluation.base: Evaluating the model with the default evaluator.\n",
      "2024/03/04 20:15:55 INFO mlflow.models.evaluation.default_evaluator: Computing model predictions.\n",
      "2024/03/04 20:15:55 INFO mlflow.models.evaluation.default_evaluator: Testing metrics on first row...\n",
      "2024/03/04 20:15:55 WARNING mlflow.models.evaluation.default_evaluator: SHAP or matplotlib package is not installed, so model explainability insights will not be logged.\n",
      "2024/03/04 20:15:55 INFO mlflow.projects: === Run (ID '2158ce5c59ff422a82f34169a331d5c9') succeeded ===\n",
      "2024/03/04 20:15:56 WARNING mlflow.utils.autologging_utils: MLflow autologging encountered a warning: \"/Users/weston/Documents/git-repos/mlflow-workshop/venv/lib/python3.10/site-packages/mlflow/models/signature.py:212: UserWarning: Hint: Inferred schema contains integer column(s). Integer columns in Python cannot represent missing values. If your input data contains missing values at inference time, it will be encoded as floats and will cause a schema enforcement error. The best way to avoid this problem is to infer the model schema based on a realistic data sample (training dataset) that includes missing values. Alternatively, you can declare integer columns as doubles (float64) whenever these columns may have missing values. See `Handling Integers With Missing Values <https://www.mlflow.org/docs/latest/models.html#handling-integers-with-missing-values>`_ for more details.\"\n",
      "2024/03/04 20:15:56 INFO mlflow.projects: === Run (ID 'd9d294e775164c7681c2885028505e4d') succeeded ===\n",
      "2024/03/04 20:15:56 WARNING mlflow.utils.autologging_utils: MLflow autologging encountered a warning: \"/Users/weston/Documents/git-repos/mlflow-workshop/venv/lib/python3.10/site-packages/mlflow/models/signature.py:212: UserWarning: Hint: Inferred schema contains integer column(s). Integer columns in Python cannot represent missing values. If your input data contains missing values at inference time, it will be encoded as floats and will cause a schema enforcement error. The best way to avoid this problem is to infer the model schema based on a realistic data sample (training dataset) that includes missing values. Alternatively, you can declare integer columns as doubles (float64) whenever these columns may have missing values. See `Handling Integers With Missing Values <https://www.mlflow.org/docs/latest/models.html#handling-integers-with-missing-values>`_ for more details.\"\n",
      "2024/03/04 20:15:56 WARNING mlflow.utils.autologging_utils: MLflow autologging encountered a warning: \"/Users/weston/Documents/git-repos/mlflow-workshop/venv/lib/python3.10/site-packages/mlflow/models/signature.py:212: UserWarning: Hint: Inferred schema contains integer column(s). Integer columns in Python cannot represent missing values. If your input data contains missing values at inference time, it will be encoded as floats and will cause a schema enforcement error. The best way to avoid this problem is to infer the model schema based on a realistic data sample (training dataset) that includes missing values. Alternatively, you can declare integer columns as doubles (float64) whenever these columns may have missing values. See `Handling Integers With Missing Values <https://www.mlflow.org/docs/latest/models.html#handling-integers-with-missing-values>`_ for more details.\"\n",
      "2024/03/04 20:15:56 WARNING mlflow.utils.autologging_utils: MLflow autologging encountered a warning: \"/Users/weston/Documents/git-repos/mlflow-workshop/venv/lib/python3.10/site-packages/mlflow/models/signature.py:212: UserWarning: Hint: Inferred schema contains integer column(s). Integer columns in Python cannot represent missing values. If your input data contains missing values at inference time, it will be encoded as floats and will cause a schema enforcement error. The best way to avoid this problem is to infer the model schema based on a realistic data sample (training dataset) that includes missing values. Alternatively, you can declare integer columns as doubles (float64) whenever these columns may have missing values. See `Handling Integers With Missing Values <https://www.mlflow.org/docs/latest/models.html#handling-integers-with-missing-values>`_ for more details.\"\n",
      "/Users/weston/Documents/git-repos/mlflow-workshop/venv/lib/python3.10/site-packages/mlflow/data/pandas_dataset.py:134: UserWarning: Hint: Inferred schema contains integer column(s). Integer columns in Python cannot represent missing values. If your input data contains missing values at inference time, it will be encoded as floats and will cause a schema enforcement error. The best way to avoid this problem is to infer the model schema based on a realistic data sample (training dataset) that includes missing values. Alternatively, you can declare integer columns as doubles (float64) whenever these columns may have missing values. See `Handling Integers With Missing Values <https://www.mlflow.org/docs/latest/models.html#handling-integers-with-missing-values>`_ for more details.\n",
      "  return _infer_schema(self._df)\n",
      "2024/03/04 20:15:57 INFO mlflow.models.evaluation.base: Evaluating the model with the default evaluator.\n",
      "2024/03/04 20:15:57 INFO mlflow.models.evaluation.default_evaluator: Computing model predictions.\n",
      "2024/03/04 20:15:57 INFO mlflow.models.evaluation.default_evaluator: Testing metrics on first row...\n",
      "2024/03/04 20:15:57 WARNING mlflow.models.evaluation.default_evaluator: SHAP or matplotlib package is not installed, so model explainability insights will not be logged.\n",
      "/Users/weston/Documents/git-repos/mlflow-workshop/venv/lib/python3.10/site-packages/mlflow/data/pandas_dataset.py:134: UserWarning: Hint: Inferred schema contains integer column(s). Integer columns in Python cannot represent missing values. If your input data contains missing values at inference time, it will be encoded as floats and will cause a schema enforcement error. The best way to avoid this problem is to infer the model schema based on a realistic data sample (training dataset) that includes missing values. Alternatively, you can declare integer columns as doubles (float64) whenever these columns may have missing values. See `Handling Integers With Missing Values <https://www.mlflow.org/docs/latest/models.html#handling-integers-with-missing-values>`_ for more details.\n",
      "  return _infer_schema(self._df)\n",
      "2024/03/04 20:15:58 INFO mlflow.models.evaluation.base: Evaluating the model with the default evaluator.\n",
      "2024/03/04 20:15:58 INFO mlflow.models.evaluation.default_evaluator: Computing model predictions.\n",
      "2024/03/04 20:15:58 INFO mlflow.models.evaluation.default_evaluator: Testing metrics on first row...\n",
      "2024/03/04 20:15:58 WARNING mlflow.models.evaluation.default_evaluator: SHAP or matplotlib package is not installed, so model explainability insights will not be logged.\n",
      "2024/03/04 20:15:58 INFO mlflow.projects: === Run (ID 'a9e4c11d05b6499c8b4c75dd12963458') succeeded ===\n",
      "2024/03/04 20:15:59 INFO mlflow.projects: === Run (ID 'e3e2367477b34a2c8d599021b14f8ee1') succeeded ===\n",
      "/Users/weston/Documents/git-repos/mlflow-workshop/venv/lib/python3.10/site-packages/mlflow/data/pandas_dataset.py:134: UserWarning: Hint: Inferred schema contains integer column(s). Integer columns in Python cannot represent missing values. If your input data contains missing values at inference time, it will be encoded as floats and will cause a schema enforcement error. The best way to avoid this problem is to infer the model schema based on a realistic data sample (training dataset) that includes missing values. Alternatively, you can declare integer columns as doubles (float64) whenever these columns may have missing values. See `Handling Integers With Missing Values <https://www.mlflow.org/docs/latest/models.html#handling-integers-with-missing-values>`_ for more details.\n",
      "  return _infer_schema(self._df)\n",
      "2024/03/04 20:15:59 INFO mlflow.models.evaluation.base: Evaluating the model with the default evaluator.\n",
      "2024/03/04 20:15:59 INFO mlflow.models.evaluation.default_evaluator: Computing model predictions.\n",
      "2024/03/04 20:15:59 INFO mlflow.models.evaluation.default_evaluator: Testing metrics on first row...\n",
      "2024/03/04 20:15:59 WARNING mlflow.models.evaluation.default_evaluator: SHAP or matplotlib package is not installed, so model explainability insights will not be logged.\n",
      "/Users/weston/Documents/git-repos/mlflow-workshop/venv/lib/python3.10/site-packages/mlflow/data/pandas_dataset.py:134: UserWarning: Hint: Inferred schema contains integer column(s). Integer columns in Python cannot represent missing values. If your input data contains missing values at inference time, it will be encoded as floats and will cause a schema enforcement error. The best way to avoid this problem is to infer the model schema based on a realistic data sample (training dataset) that includes missing values. Alternatively, you can declare integer columns as doubles (float64) whenever these columns may have missing values. See `Handling Integers With Missing Values <https://www.mlflow.org/docs/latest/models.html#handling-integers-with-missing-values>`_ for more details.\n",
      "  return _infer_schema(self._df)\n",
      "2024/03/04 20:15:59 INFO mlflow.models.evaluation.base: Evaluating the model with the default evaluator.\n",
      "2024/03/04 20:15:59 INFO mlflow.models.evaluation.default_evaluator: Computing model predictions.\n",
      "2024/03/04 20:15:59 INFO mlflow.models.evaluation.default_evaluator: Testing metrics on first row...\n",
      "2024/03/04 20:15:59 WARNING mlflow.models.evaluation.default_evaluator: SHAP or matplotlib package is not installed, so model explainability insights will not be logged.\n",
      "2024/03/04 20:16:00 INFO mlflow.projects: === Run (ID '64e78e031ca145929b20f7ee6264cbf0') succeeded ===\n",
      "2024/03/04 20:16:00 INFO mlflow.projects: === Run (ID '676a3f2ea3c44c4ca158b9bd8a8d031e') succeeded ===\n",
      "/Users/weston/Documents/git-repos/mlflow-workshop/venv/lib/python3.10/site-packages/mlflow/data/pandas_dataset.py:134: UserWarning: Hint: Inferred schema contains integer column(s). Integer columns in Python cannot represent missing values. If your input data contains missing values at inference time, it will be encoded as floats and will cause a schema enforcement error. The best way to avoid this problem is to infer the model schema based on a realistic data sample (training dataset) that includes missing values. Alternatively, you can declare integer columns as doubles (float64) whenever these columns may have missing values. See `Handling Integers With Missing Values <https://www.mlflow.org/docs/latest/models.html#handling-integers-with-missing-values>`_ for more details.\n",
      "  return _infer_schema(self._df)\n",
      "2024/03/04 20:16:00 INFO mlflow.models.evaluation.base: Evaluating the model with the default evaluator.\n",
      "2024/03/04 20:16:00 INFO mlflow.models.evaluation.default_evaluator: Computing model predictions.\n",
      "2024/03/04 20:16:00 INFO mlflow.models.evaluation.default_evaluator: Testing metrics on first row...\n",
      "2024/03/04 20:16:00 WARNING mlflow.models.evaluation.default_evaluator: SHAP or matplotlib package is not installed, so model explainability insights will not be logged.\n",
      "2024/03/04 20:16:01 INFO mlflow.projects: === Run (ID 'b19dbb5fb90241c98602dc282e124063') succeeded ===\n",
      "/Users/weston/Documents/git-repos/mlflow-workshop/venv/lib/python3.10/site-packages/mlflow/data/pandas_dataset.py:134: UserWarning: Hint: Inferred schema contains integer column(s). Integer columns in Python cannot represent missing values. If your input data contains missing values at inference time, it will be encoded as floats and will cause a schema enforcement error. The best way to avoid this problem is to infer the model schema based on a realistic data sample (training dataset) that includes missing values. Alternatively, you can declare integer columns as doubles (float64) whenever these columns may have missing values. See `Handling Integers With Missing Values <https://www.mlflow.org/docs/latest/models.html#handling-integers-with-missing-values>`_ for more details.\n",
      "  return _infer_schema(self._df)\n",
      "2024/03/04 20:16:01 INFO mlflow.models.evaluation.base: Evaluating the model with the default evaluator.\n",
      "2024/03/04 20:16:01 INFO mlflow.models.evaluation.default_evaluator: Computing model predictions.\n",
      "2024/03/04 20:16:01 INFO mlflow.models.evaluation.default_evaluator: Testing metrics on first row...\n",
      "2024/03/04 20:16:01 WARNING mlflow.models.evaluation.default_evaluator: SHAP or matplotlib package is not installed, so model explainability insights will not be logged.\n",
      "/Users/weston/Documents/git-repos/mlflow-workshop/venv/lib/python3.10/site-packages/mlflow/data/pandas_dataset.py:134: UserWarning: Hint: Inferred schema contains integer column(s). Integer columns in Python cannot represent missing values. If your input data contains missing values at inference time, it will be encoded as floats and will cause a schema enforcement error. The best way to avoid this problem is to infer the model schema based on a realistic data sample (training dataset) that includes missing values. Alternatively, you can declare integer columns as doubles (float64) whenever these columns may have missing values. See `Handling Integers With Missing Values <https://www.mlflow.org/docs/latest/models.html#handling-integers-with-missing-values>`_ for more details.\n",
      "  return _infer_schema(self._df)\n",
      "/Users/weston/Documents/git-repos/mlflow-workshop/venv/lib/python3.10/site-packages/mlflow/data/pandas_dataset.py:134: UserWarning: Hint: Inferred schema contains integer column(s). Integer columns in Python cannot represent missing values. If your input data contains missing values at inference time, it will be encoded as floats and will cause a schema enforcement error. The best way to avoid this problem is to infer the model schema based on a realistic data sample (training dataset) that includes missing values. Alternatively, you can declare integer columns as doubles (float64) whenever these columns may have missing values. See `Handling Integers With Missing Values <https://www.mlflow.org/docs/latest/models.html#handling-integers-with-missing-values>`_ for more details.\n",
      "  return _infer_schema(self._df)\n",
      "2024/03/04 20:16:01 INFO mlflow.models.evaluation.base: Evaluating the model with the default evaluator.\n",
      "2024/03/04 20:16:01 INFO mlflow.models.evaluation.default_evaluator: Computing model predictions.\n",
      "2024/03/04 20:16:01 INFO mlflow.models.evaluation.base: Evaluating the model with the default evaluator.\n",
      "2024/03/04 20:16:01 INFO mlflow.models.evaluation.default_evaluator: Computing model predictions.\n",
      "2024/03/04 20:16:01 INFO mlflow.models.evaluation.default_evaluator: Testing metrics on first row...\n",
      "2024/03/04 20:16:01 WARNING mlflow.models.evaluation.default_evaluator: SHAP or matplotlib package is not installed, so model explainability insights will not be logged.\n",
      "2024/03/04 20:16:01 INFO mlflow.models.evaluation.default_evaluator: Testing metrics on first row...\n",
      "2024/03/04 20:16:01 WARNING mlflow.models.evaluation.default_evaluator: SHAP or matplotlib package is not installed, so model explainability insights will not be logged.\n",
      "/Users/weston/Documents/git-repos/mlflow-workshop/venv/lib/python3.10/site-packages/mlflow/data/pandas_dataset.py:134: UserWarning: Hint: Inferred schema contains integer column(s). Integer columns in Python cannot represent missing values. If your input data contains missing values at inference time, it will be encoded as floats and will cause a schema enforcement error. The best way to avoid this problem is to infer the model schema based on a realistic data sample (training dataset) that includes missing values. Alternatively, you can declare integer columns as doubles (float64) whenever these columns may have missing values. See `Handling Integers With Missing Values <https://www.mlflow.org/docs/latest/models.html#handling-integers-with-missing-values>`_ for more details.\n",
      "  return _infer_schema(self._df)\n",
      "2024/03/04 20:16:02 INFO mlflow.models.evaluation.base: Evaluating the model with the default evaluator.\n",
      "2024/03/04 20:16:02 INFO mlflow.models.evaluation.default_evaluator: Computing model predictions.\n",
      "2024/03/04 20:16:02 INFO mlflow.models.evaluation.default_evaluator: Testing metrics on first row...\n",
      "2024/03/04 20:16:02 WARNING mlflow.models.evaluation.default_evaluator: SHAP or matplotlib package is not installed, so model explainability insights will not be logged.\n",
      "2024/03/04 20:16:02 INFO mlflow.projects: === Run (ID 'ac9ce1b7efc24f97ab3b98ff79007c15') succeeded ===\n",
      "2024/03/04 20:16:02 INFO mlflow.projects: === Run (ID '995c486cfd7b4d5f98e340a0f0dbc9c8') succeeded ===\n",
      "2024/03/04 20:16:02 INFO mlflow.projects: === Run (ID 'c8bdd01953084158b03627006ccf6445') succeeded ===\n",
      "2024/03/04 20:16:02 INFO mlflow.projects: === Run (ID '0080335e3ca648b89ad6eded4418bc69') succeeded ===\n"
     ]
    },
    {
     "data": {
      "text/plain": [
       "([None,\n",
       "  None,\n",
       "  None,\n",
       "  None,\n",
       "  None,\n",
       "  None,\n",
       "  None,\n",
       "  None,\n",
       "  None,\n",
       "  None,\n",
       "  None,\n",
       "  None,\n",
       "  None,\n",
       "  None,\n",
       "  None],)"
      ]
     },
     "execution_count": 32,
     "metadata": {},
     "output_type": "execute_result"
    }
   ],
   "source": [
    "results = []\n",
    "\n",
    "# Append the results for each dictionary of parameters\n",
    "for param in parameters:\n",
    "    results.append(train_model(param))\n",
    "\n",
    "# Compute it in parallel\n",
    "dask.compute(results)"
   ]
  },
  {
   "cell_type": "code",
   "execution_count": 33,
   "id": "18255fcf-ad6d-45c4-a8e3-505d6a6402bb",
   "metadata": {},
   "outputs": [
    {
     "data": {
      "text/html": [
       "<div>\n",
       "<style scoped>\n",
       "    .dataframe tbody tr th:only-of-type {\n",
       "        vertical-align: middle;\n",
       "    }\n",
       "\n",
       "    .dataframe tbody tr th {\n",
       "        vertical-align: top;\n",
       "    }\n",
       "\n",
       "    .dataframe thead th {\n",
       "        text-align: right;\n",
       "    }\n",
       "</style>\n",
       "<table border=\"1\" class=\"dataframe\">\n",
       "  <thead>\n",
       "    <tr style=\"text-align: right;\">\n",
       "      <th></th>\n",
       "      <th>metrics.r2_score</th>\n",
       "      <th>run_id</th>\n",
       "      <th>params.max_depth</th>\n",
       "      <th>params.n_estimators</th>\n",
       "    </tr>\n",
       "  </thead>\n",
       "  <tbody>\n",
       "    <tr>\n",
       "      <th>0</th>\n",
       "      <td>0.901237</td>\n",
       "      <td>b90feee140914382964a3a2fc6f1475f</td>\n",
       "      <td>3</td>\n",
       "      <td>50</td>\n",
       "    </tr>\n",
       "    <tr>\n",
       "      <th>1</th>\n",
       "      <td>0.900195</td>\n",
       "      <td>d9d294e775164c7681c2885028505e4d</td>\n",
       "      <td>4</td>\n",
       "      <td>100</td>\n",
       "    </tr>\n",
       "    <tr>\n",
       "      <th>2</th>\n",
       "      <td>0.896692</td>\n",
       "      <td>39c71e4e495f452388ca287da575accd</td>\n",
       "      <td>None</td>\n",
       "      <td>None</td>\n",
       "    </tr>\n",
       "    <tr>\n",
       "      <th>3</th>\n",
       "      <td>0.896692</td>\n",
       "      <td>d606a8159bfe4dbfa50ebb7c2edd1dd9</td>\n",
       "      <td>None</td>\n",
       "      <td>None</td>\n",
       "    </tr>\n",
       "    <tr>\n",
       "      <th>4</th>\n",
       "      <td>0.896692</td>\n",
       "      <td>9453994aaa764876b2759f74db7bb902</td>\n",
       "      <td>None</td>\n",
       "      <td>None</td>\n",
       "    </tr>\n",
       "    <tr>\n",
       "      <th>5</th>\n",
       "      <td>0.896692</td>\n",
       "      <td>70d86b1a31994f65835ad1034268b4d3</td>\n",
       "      <td>None</td>\n",
       "      <td>None</td>\n",
       "    </tr>\n",
       "    <tr>\n",
       "      <th>6</th>\n",
       "      <td>0.896692</td>\n",
       "      <td>a9e4c11d05b6499c8b4c75dd12963458</td>\n",
       "      <td>6</td>\n",
       "      <td>150</td>\n",
       "    </tr>\n",
       "    <tr>\n",
       "      <th>7</th>\n",
       "      <td>0.896687</td>\n",
       "      <td>2158ce5c59ff422a82f34169a331d5c9</td>\n",
       "      <td>6</td>\n",
       "      <td>51</td>\n",
       "    </tr>\n",
       "    <tr>\n",
       "      <th>8</th>\n",
       "      <td>0.896262</td>\n",
       "      <td>64e78e031ca145929b20f7ee6264cbf0</td>\n",
       "      <td>10</td>\n",
       "      <td>161</td>\n",
       "    </tr>\n",
       "    <tr>\n",
       "      <th>9</th>\n",
       "      <td>0.896262</td>\n",
       "      <td>676a3f2ea3c44c4ca158b9bd8a8d031e</td>\n",
       "      <td>10</td>\n",
       "      <td>186</td>\n",
       "    </tr>\n",
       "    <tr>\n",
       "      <th>10</th>\n",
       "      <td>0.895243</td>\n",
       "      <td>e3e2367477b34a2c8d599021b14f8ee1</td>\n",
       "      <td>8</td>\n",
       "      <td>132</td>\n",
       "    </tr>\n",
       "    <tr>\n",
       "      <th>11</th>\n",
       "      <td>0.895243</td>\n",
       "      <td>ac9ce1b7efc24f97ab3b98ff79007c15</td>\n",
       "      <td>8</td>\n",
       "      <td>225</td>\n",
       "    </tr>\n",
       "    <tr>\n",
       "      <th>12</th>\n",
       "      <td>0.895150</td>\n",
       "      <td>0080335e3ca648b89ad6eded4418bc69</td>\n",
       "      <td>9</td>\n",
       "      <td>250</td>\n",
       "    </tr>\n",
       "    <tr>\n",
       "      <th>13</th>\n",
       "      <td>0.895150</td>\n",
       "      <td>c8bdd01953084158b03627006ccf6445</td>\n",
       "      <td>9</td>\n",
       "      <td>224</td>\n",
       "    </tr>\n",
       "    <tr>\n",
       "      <th>14</th>\n",
       "      <td>0.894650</td>\n",
       "      <td>1e19b1df2bf94930935053fff1cb0274</td>\n",
       "      <td>5</td>\n",
       "      <td>20</td>\n",
       "    </tr>\n",
       "    <tr>\n",
       "      <th>15</th>\n",
       "      <td>0.894650</td>\n",
       "      <td>7ffd7fbf2cc54685a68756bbf4aeff5c</td>\n",
       "      <td>5</td>\n",
       "      <td>20</td>\n",
       "    </tr>\n",
       "    <tr>\n",
       "      <th>16</th>\n",
       "      <td>0.892622</td>\n",
       "      <td>b19dbb5fb90241c98602dc282e124063</td>\n",
       "      <td>7</td>\n",
       "      <td>213</td>\n",
       "    </tr>\n",
       "    <tr>\n",
       "      <th>17</th>\n",
       "      <td>0.892622</td>\n",
       "      <td>995c486cfd7b4d5f98e340a0f0dbc9c8</td>\n",
       "      <td>7</td>\n",
       "      <td>250</td>\n",
       "    </tr>\n",
       "    <tr>\n",
       "      <th>18</th>\n",
       "      <td>0.877156</td>\n",
       "      <td>3eec879f15364996be2a5c42a61d4c66</td>\n",
       "      <td>5</td>\n",
       "      <td>11</td>\n",
       "    </tr>\n",
       "    <tr>\n",
       "      <th>19</th>\n",
       "      <td>0.870835</td>\n",
       "      <td>ff773a19e2c44f978f4699d4dcaad287</td>\n",
       "      <td>2</td>\n",
       "      <td>10</td>\n",
       "    </tr>\n",
       "  </tbody>\n",
       "</table>\n",
       "</div>"
      ],
      "text/plain": [
       "    metrics.r2_score                            run_id params.max_depth  \\\n",
       "0           0.901237  b90feee140914382964a3a2fc6f1475f                3   \n",
       "1           0.900195  d9d294e775164c7681c2885028505e4d                4   \n",
       "2           0.896692  39c71e4e495f452388ca287da575accd             None   \n",
       "3           0.896692  d606a8159bfe4dbfa50ebb7c2edd1dd9             None   \n",
       "4           0.896692  9453994aaa764876b2759f74db7bb902             None   \n",
       "5           0.896692  70d86b1a31994f65835ad1034268b4d3             None   \n",
       "6           0.896692  a9e4c11d05b6499c8b4c75dd12963458                6   \n",
       "7           0.896687  2158ce5c59ff422a82f34169a331d5c9                6   \n",
       "8           0.896262  64e78e031ca145929b20f7ee6264cbf0               10   \n",
       "9           0.896262  676a3f2ea3c44c4ca158b9bd8a8d031e               10   \n",
       "10          0.895243  e3e2367477b34a2c8d599021b14f8ee1                8   \n",
       "11          0.895243  ac9ce1b7efc24f97ab3b98ff79007c15                8   \n",
       "12          0.895150  0080335e3ca648b89ad6eded4418bc69                9   \n",
       "13          0.895150  c8bdd01953084158b03627006ccf6445                9   \n",
       "14          0.894650  1e19b1df2bf94930935053fff1cb0274                5   \n",
       "15          0.894650  7ffd7fbf2cc54685a68756bbf4aeff5c                5   \n",
       "16          0.892622  b19dbb5fb90241c98602dc282e124063                7   \n",
       "17          0.892622  995c486cfd7b4d5f98e340a0f0dbc9c8                7   \n",
       "18          0.877156  3eec879f15364996be2a5c42a61d4c66                5   \n",
       "19          0.870835  ff773a19e2c44f978f4699d4dcaad287                2   \n",
       "\n",
       "   params.n_estimators  \n",
       "0                   50  \n",
       "1                  100  \n",
       "2                 None  \n",
       "3                 None  \n",
       "4                 None  \n",
       "5                 None  \n",
       "6                  150  \n",
       "7                   51  \n",
       "8                  161  \n",
       "9                  186  \n",
       "10                 132  \n",
       "11                 225  \n",
       "12                 250  \n",
       "13                 224  \n",
       "14                  20  \n",
       "15                  20  \n",
       "16                 213  \n",
       "17                 250  \n",
       "18                  11  \n",
       "19                  10  "
      ]
     },
     "execution_count": 33,
     "metadata": {},
     "output_type": "execute_result"
    }
   ],
   "source": [
    "# Show all the new ones\n",
    "import mlflow\n",
    "import pandas as pd\n",
    "\n",
    "# Set Tracking URL \n",
    "mlflow.set_tracking_uri(\"sqlite:///mydb.sqlite\")\n",
    "\n",
    "# Get the Experiment ID\n",
    "experiment_id = mlflow.get_experiment_by_name(\"PotentialStartups\").experiment_id\n",
    "\n",
    "# Sort it by r2_score and show which parameters gave us the best result\n",
    "evals_df = mlflow.search_runs([experiment_id], order_by=[\"metrics.r2_score DESC\"])\n",
    "evals_df[[\"metrics.r2_score\", \"run_id\", \"params.max_depth\", \"params.n_estimators\"]]"
   ]
  },
  {
   "cell_type": "code",
   "execution_count": 34,
   "id": "3604f50d-a3bd-434f-8fae-c0136733a1af",
   "metadata": {},
   "outputs": [
    {
     "name": "stderr",
     "output_type": "stream",
     "text": [
      "Registered model 'StartupModels' already exists. Creating a new version of this model...\n",
      "Created version '2' of model 'StartupModels'.\n"
     ]
    },
    {
     "data": {
      "text/plain": [
       "<ModelVersion: aliases=[], creation_timestamp=1709601378243, current_stage='None', description=None, last_updated_timestamp=1709601378243, name='StartupModels', run_id='b90feee140914382964a3a2fc6f1475f', run_link=None, source='/Users/weston/Documents/git-repos/mlflow-workshop/mlruns/1/b90feee140914382964a3a2fc6f1475f/artifacts/model', status='READY', status_message=None, tags={}, user_id=None, version=2>"
      ]
     },
     "execution_count": 34,
     "metadata": {},
     "output_type": "execute_result"
    }
   ],
   "source": [
    "# Lets Register the \"BEST\" model\n",
    "run_id = \"b90feee140914382964a3a2fc6f1475f\"\n",
    "\n",
    "# Register the model\n",
    "mlflow.register_model(f\"runs:/{run_id}/model\", \"StartupModels\")"
   ]
  },
  {
   "cell_type": "code",
   "execution_count": 35,
   "id": "7fd55ec2-effb-422e-9084-42d3f30a15a0",
   "metadata": {},
   "outputs": [
    {
     "data": {
      "text/html": [
       "<style>#sk-container-id-3 {color: black;background-color: white;}#sk-container-id-3 pre{padding: 0;}#sk-container-id-3 div.sk-toggleable {background-color: white;}#sk-container-id-3 label.sk-toggleable__label {cursor: pointer;display: block;width: 100%;margin-bottom: 0;padding: 0.3em;box-sizing: border-box;text-align: center;}#sk-container-id-3 label.sk-toggleable__label-arrow:before {content: \"▸\";float: left;margin-right: 0.25em;color: #696969;}#sk-container-id-3 label.sk-toggleable__label-arrow:hover:before {color: black;}#sk-container-id-3 div.sk-estimator:hover label.sk-toggleable__label-arrow:before {color: black;}#sk-container-id-3 div.sk-toggleable__content {max-height: 0;max-width: 0;overflow: hidden;text-align: left;background-color: #f0f8ff;}#sk-container-id-3 div.sk-toggleable__content pre {margin: 0.2em;color: black;border-radius: 0.25em;background-color: #f0f8ff;}#sk-container-id-3 input.sk-toggleable__control:checked~div.sk-toggleable__content {max-height: 200px;max-width: 100%;overflow: auto;}#sk-container-id-3 input.sk-toggleable__control:checked~label.sk-toggleable__label-arrow:before {content: \"▾\";}#sk-container-id-3 div.sk-estimator input.sk-toggleable__control:checked~label.sk-toggleable__label {background-color: #d4ebff;}#sk-container-id-3 div.sk-label input.sk-toggleable__control:checked~label.sk-toggleable__label {background-color: #d4ebff;}#sk-container-id-3 input.sk-hidden--visually {border: 0;clip: rect(1px 1px 1px 1px);clip: rect(1px, 1px, 1px, 1px);height: 1px;margin: -1px;overflow: hidden;padding: 0;position: absolute;width: 1px;}#sk-container-id-3 div.sk-estimator {font-family: monospace;background-color: #f0f8ff;border: 1px dotted black;border-radius: 0.25em;box-sizing: border-box;margin-bottom: 0.5em;}#sk-container-id-3 div.sk-estimator:hover {background-color: #d4ebff;}#sk-container-id-3 div.sk-parallel-item::after {content: \"\";width: 100%;border-bottom: 1px solid gray;flex-grow: 1;}#sk-container-id-3 div.sk-label:hover label.sk-toggleable__label {background-color: #d4ebff;}#sk-container-id-3 div.sk-serial::before {content: \"\";position: absolute;border-left: 1px solid gray;box-sizing: border-box;top: 0;bottom: 0;left: 50%;z-index: 0;}#sk-container-id-3 div.sk-serial {display: flex;flex-direction: column;align-items: center;background-color: white;padding-right: 0.2em;padding-left: 0.2em;position: relative;}#sk-container-id-3 div.sk-item {position: relative;z-index: 1;}#sk-container-id-3 div.sk-parallel {display: flex;align-items: stretch;justify-content: center;background-color: white;position: relative;}#sk-container-id-3 div.sk-item::before, #sk-container-id-3 div.sk-parallel-item::before {content: \"\";position: absolute;border-left: 1px solid gray;box-sizing: border-box;top: 0;bottom: 0;left: 50%;z-index: -1;}#sk-container-id-3 div.sk-parallel-item {display: flex;flex-direction: column;z-index: 1;position: relative;background-color: white;}#sk-container-id-3 div.sk-parallel-item:first-child::after {align-self: flex-end;width: 50%;}#sk-container-id-3 div.sk-parallel-item:last-child::after {align-self: flex-start;width: 50%;}#sk-container-id-3 div.sk-parallel-item:only-child::after {width: 0;}#sk-container-id-3 div.sk-dashed-wrapped {border: 1px dashed gray;margin: 0 0.4em 0.5em 0.4em;box-sizing: border-box;padding-bottom: 0.4em;background-color: white;}#sk-container-id-3 div.sk-label label {font-family: monospace;font-weight: bold;display: inline-block;line-height: 1.2em;}#sk-container-id-3 div.sk-label-container {text-align: center;}#sk-container-id-3 div.sk-container {/* jupyter's `normalize.less` sets `[hidden] { display: none; }` but bootstrap.min.css set `[hidden] { display: none !important; }` so we also need the `!important` here to be able to override the default hidden behavior on the sphinx rendered scikit-learn.org. See: https://github.com/scikit-learn/scikit-learn/issues/21755 */display: inline-block !important;position: relative;}#sk-container-id-3 div.sk-text-repr-fallback {display: none;}</style><div id=\"sk-container-id-3\" class=\"sk-top-container\"><div class=\"sk-text-repr-fallback\"><pre>XGBRegressor(base_score=0.5, booster=&#x27;gbtree&#x27;, callbacks=None,\n",
       "             colsample_bylevel=1, colsample_bynode=1, colsample_bytree=1,\n",
       "             early_stopping_rounds=None, enable_categorical=False,\n",
       "             eval_metric=None, gamma=0, gpu_id=-1, grow_policy=&#x27;depthwise&#x27;,\n",
       "             importance_type=None, interaction_constraints=&#x27;&#x27;,\n",
       "             learning_rate=0.300000012, max_bin=256, max_cat_to_onehot=4,\n",
       "             max_delta_step=0, max_depth=3, max_leaves=0, min_child_weight=1,\n",
       "             missing=nan, monotone_constraints=&#x27;()&#x27;, n_estimators=50, n_jobs=0,\n",
       "             num_parallel_tree=1, predictor=&#x27;auto&#x27;, random_state=0, reg_alpha=0,\n",
       "             reg_lambda=1, ...)</pre><b>In a Jupyter environment, please rerun this cell to show the HTML representation or trust the notebook. <br />On GitHub, the HTML representation is unable to render, please try loading this page with nbviewer.org.</b></div><div class=\"sk-container\" hidden><div class=\"sk-item\"><div class=\"sk-estimator sk-toggleable\"><input class=\"sk-toggleable__control sk-hidden--visually\" id=\"sk-estimator-id-3\" type=\"checkbox\" checked><label for=\"sk-estimator-id-3\" class=\"sk-toggleable__label sk-toggleable__label-arrow\">XGBRegressor</label><div class=\"sk-toggleable__content\"><pre>XGBRegressor(base_score=0.5, booster=&#x27;gbtree&#x27;, callbacks=None,\n",
       "             colsample_bylevel=1, colsample_bynode=1, colsample_bytree=1,\n",
       "             early_stopping_rounds=None, enable_categorical=False,\n",
       "             eval_metric=None, gamma=0, gpu_id=-1, grow_policy=&#x27;depthwise&#x27;,\n",
       "             importance_type=None, interaction_constraints=&#x27;&#x27;,\n",
       "             learning_rate=0.300000012, max_bin=256, max_cat_to_onehot=4,\n",
       "             max_delta_step=0, max_depth=3, max_leaves=0, min_child_weight=1,\n",
       "             missing=nan, monotone_constraints=&#x27;()&#x27;, n_estimators=50, n_jobs=0,\n",
       "             num_parallel_tree=1, predictor=&#x27;auto&#x27;, random_state=0, reg_alpha=0,\n",
       "             reg_lambda=1, ...)</pre></div></div></div></div></div>"
      ],
      "text/plain": [
       "XGBRegressor(base_score=0.5, booster='gbtree', callbacks=None,\n",
       "             colsample_bylevel=1, colsample_bynode=1, colsample_bytree=1,\n",
       "             early_stopping_rounds=None, enable_categorical=False,\n",
       "             eval_metric=None, gamma=0, gpu_id=-1, grow_policy='depthwise',\n",
       "             importance_type=None, interaction_constraints='',\n",
       "             learning_rate=0.300000012, max_bin=256, max_cat_to_onehot=4,\n",
       "             max_delta_step=0, max_depth=3, max_leaves=0, min_child_weight=1,\n",
       "             missing=nan, monotone_constraints='()', n_estimators=50, n_jobs=0,\n",
       "             num_parallel_tree=1, predictor='auto', random_state=0, reg_alpha=0,\n",
       "             reg_lambda=1, ...)"
      ]
     },
     "execution_count": 35,
     "metadata": {},
     "output_type": "execute_result"
    }
   ],
   "source": [
    "# Load and run prediction on BEST model\n",
    "import mlflow\n",
    "\n",
    "# Load Second version\n",
    "model = mlflow.xgboost.load_model(model_uri=\"models:/StartupModels/2\")\n",
    "model"
   ]
  },
  {
   "cell_type": "code",
   "execution_count": 36,
   "id": "c3d9f794-dc32-4279-bb31-2f77ef9b71e1",
   "metadata": {},
   "outputs": [
    {
     "data": {
      "text/plain": [
       "(3, 50)"
      ]
     },
     "execution_count": 36,
     "metadata": {},
     "output_type": "execute_result"
    }
   ],
   "source": [
    "# print params\n",
    "model.max_depth, model.n_estimators"
   ]
  },
  {
   "cell_type": "code",
   "execution_count": 37,
   "id": "5dfddcf5-60c0-4e81-b564-018c219c9a09",
   "metadata": {},
   "outputs": [
    {
     "data": {
      "text/plain": [
       "183079.39"
      ]
     },
     "execution_count": 37,
     "metadata": {},
     "output_type": "execute_result"
    }
   ],
   "source": [
    "# R&D Spend, Administration, Marketing Spend, State\n",
    "predict_list = [13345349.2, 200000.8, 100000.0, 0]\n",
    "# Predict\n",
    "prediction = model.predict([predict_list])\n",
    "prediction[0]"
   ]
  },
  {
   "cell_type": "code",
   "execution_count": null,
   "id": "d8779150-5013-4e8a-8223-f2dacbd97a16",
   "metadata": {},
   "outputs": [],
   "source": []
  }
 ],
 "metadata": {
  "kernelspec": {
   "display_name": "Python 3 (ipykernel)",
   "language": "python",
   "name": "python3"
  },
  "language_info": {
   "codemirror_mode": {
    "name": "ipython",
    "version": 3
   },
   "file_extension": ".py",
   "mimetype": "text/x-python",
   "name": "python",
   "nbconvert_exporter": "python",
   "pygments_lexer": "ipython3",
   "version": "3.10.8"
  }
 },
 "nbformat": 4,
 "nbformat_minor": 5
}
